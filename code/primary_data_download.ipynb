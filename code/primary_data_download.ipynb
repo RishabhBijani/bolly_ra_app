{
 "cells": [
  {
   "cell_type": "code",
   "execution_count": 1,
   "id": "060db83c",
   "metadata": {
    "lines_to_next_cell": 2
   },
   "outputs": [
    {
     "name": "stdout",
     "output_type": "stream",
     "text": [
      "🔐 Logging in to OpenSubtitles...\n",
      "✅ OpenSubtitles login successful.\n"
     ]
    },
    {
     "name": "stderr",
     "output_type": "stream",
     "text": [
      "  0%|                                                   | 0/100 [00:00<?, ?it/s]"
     ]
    },
    {
     "name": "stdout",
     "output_type": "stream",
     "text": [
      "\n",
      "=== Processing tt8207768 ===\n",
      "✅ Description saved.\n",
      "✅ Poster saved.\n"
     ]
    },
    {
     "name": "stderr",
     "output_type": "stream",
     "text": [
      "  1%|▍                                          | 1/100 [00:04<07:00,  4.25s/it]"
     ]
    },
    {
     "name": "stdout",
     "output_type": "stream",
     "text": [
      "✅ Subtitle saved.\n",
      "\n",
      "=== Processing tt6903440 ===\n",
      "✅ Description saved.\n",
      "✅ Poster saved.\n"
     ]
    },
    {
     "name": "stderr",
     "output_type": "stream",
     "text": [
      "  2%|▊                                          | 2/100 [00:10<08:24,  5.15s/it]"
     ]
    },
    {
     "name": "stdout",
     "output_type": "stream",
     "text": [
      "✅ Subtitle saved.\n",
      "\n",
      "=== Processing tt4977530 ===\n",
      "✅ Description saved.\n",
      "✅ Poster saved.\n"
     ]
    },
    {
     "name": "stderr",
     "output_type": "stream",
     "text": [
      "  3%|█▎                                         | 3/100 [00:15<08:50,  5.47s/it]"
     ]
    },
    {
     "name": "stdout",
     "output_type": "stream",
     "text": [
      "✅ Subtitle saved.\n",
      "\n",
      "=== Processing tt4552546 ===\n",
      "✅ Description saved.\n",
      "✅ Poster saved.\n"
     ]
    },
    {
     "name": "stderr",
     "output_type": "stream",
     "text": [
      "  4%|█▋                                         | 4/100 [00:18<07:15,  4.54s/it]"
     ]
    },
    {
     "name": "stdout",
     "output_type": "stream",
     "text": [
      "⚠️ No subtitles found.\n",
      "\n",
      "=== Processing tt1286766 ===\n",
      "✅ Description saved.\n",
      "✅ Poster saved.\n"
     ]
    },
    {
     "name": "stderr",
     "output_type": "stream",
     "text": [
      "  5%|██▏                                        | 5/100 [00:23<07:03,  4.46s/it]"
     ]
    },
    {
     "name": "stdout",
     "output_type": "stream",
     "text": [
      "✅ Subtitle saved.\n",
      "\n",
      "=== Processing tt4010306 ===\n",
      "✅ Description saved.\n",
      "✅ Poster saved.\n"
     ]
    },
    {
     "name": "stderr",
     "output_type": "stream",
     "text": [
      "  6%|██▌                                        | 6/100 [00:26<06:11,  3.95s/it]"
     ]
    },
    {
     "name": "stdout",
     "output_type": "stream",
     "text": [
      "⚠️ No subtitles found.\n",
      "\n",
      "=== Processing tt1629376 ===\n",
      "✅ Description saved.\n",
      "✅ Poster saved.\n"
     ]
    },
    {
     "name": "stderr",
     "output_type": "stream",
     "text": [
      "  7%|███                                        | 7/100 [00:30<06:13,  4.02s/it]"
     ]
    },
    {
     "name": "stdout",
     "output_type": "stream",
     "text": [
      "✅ Subtitle saved.\n",
      "\n",
      "=== Processing tt7700730 ===\n",
      "✅ Description saved.\n",
      "✅ Poster saved.\n"
     ]
    },
    {
     "name": "stderr",
     "output_type": "stream",
     "text": [
      "  8%|███▍                                       | 8/100 [00:34<06:22,  4.15s/it]"
     ]
    },
    {
     "name": "stdout",
     "output_type": "stream",
     "text": [
      "✅ Subtitle saved.\n",
      "\n",
      "=== Processing tt6299040 ===\n",
      "✅ Description saved.\n",
      "✅ Poster saved.\n"
     ]
    },
    {
     "name": "stderr",
     "output_type": "stream",
     "text": [
      "  9%|███▊                                       | 9/100 [00:39<06:45,  4.45s/it]"
     ]
    },
    {
     "name": "stdout",
     "output_type": "stream",
     "text": [
      "✅ Subtitle saved.\n",
      "\n",
      "=== Processing tt2429930 ===\n",
      "✅ Description saved.\n",
      "✅ Poster saved.\n"
     ]
    },
    {
     "name": "stderr",
     "output_type": "stream",
     "text": [
      " 10%|████▏                                     | 10/100 [00:42<05:46,  3.85s/it]"
     ]
    },
    {
     "name": "stdout",
     "output_type": "stream",
     "text": [
      "⚠️ No subtitles found.\n",
      "\n",
      "=== Processing tt3166542 ===\n",
      "❌ TMDb description error: list index out of range\n",
      "✅ Poster saved.\n"
     ]
    },
    {
     "name": "stderr",
     "output_type": "stream",
     "text": [
      " 11%|████▌                                     | 11/100 [00:45<05:13,  3.52s/it]"
     ]
    },
    {
     "name": "stdout",
     "output_type": "stream",
     "text": [
      "⚠️ No subtitles found.\n",
      "\n",
      "=== Processing tt11007050 ===\n",
      "✅ Description saved.\n",
      "✅ Poster saved.\n"
     ]
    },
    {
     "name": "stderr",
     "output_type": "stream",
     "text": [
      " 12%|█████                                     | 12/100 [00:48<05:01,  3.42s/it]"
     ]
    },
    {
     "name": "stdout",
     "output_type": "stream",
     "text": [
      "⚠️ No subtitles found.\n",
      "\n",
      "=== Processing tt5472758 ===\n",
      "✅ Description saved.\n",
      "✅ Poster saved.\n"
     ]
    },
    {
     "name": "stderr",
     "output_type": "stream",
     "text": [
      " 13%|█████▍                                    | 13/100 [00:53<05:27,  3.76s/it]"
     ]
    },
    {
     "name": "stdout",
     "output_type": "stream",
     "text": [
      "✅ Subtitle saved.\n",
      "\n",
      "=== Processing tt6484982 ===\n",
      "✅ Description saved.\n",
      "✅ Poster saved.\n"
     ]
    },
    {
     "name": "stderr",
     "output_type": "stream",
     "text": [
      " 14%|█████▉                                    | 14/100 [00:57<05:38,  3.94s/it]"
     ]
    },
    {
     "name": "stdout",
     "output_type": "stream",
     "text": [
      "✅ Subtitle saved.\n",
      "\n",
      "=== Processing tt6527426 ===\n",
      "✅ Description saved.\n",
      "✅ Poster saved.\n"
     ]
    },
    {
     "name": "stderr",
     "output_type": "stream",
     "text": [
      " 15%|██████▎                                   | 15/100 [01:02<06:05,  4.31s/it]"
     ]
    },
    {
     "name": "stdout",
     "output_type": "stream",
     "text": [
      "✅ Subtitle saved.\n",
      "\n",
      "=== Processing tt2963974 ===\n",
      "✅ Description saved.\n",
      "✅ Poster saved.\n"
     ]
    },
    {
     "name": "stderr",
     "output_type": "stream",
     "text": [
      " 16%|██████▋                                   | 16/100 [01:07<06:10,  4.41s/it]"
     ]
    },
    {
     "name": "stdout",
     "output_type": "stream",
     "text": [
      "✅ Subtitle saved.\n",
      "\n",
      "=== Processing tt2112124 ===\n",
      "✅ Description saved.\n",
      "✅ Poster saved.\n"
     ]
    },
    {
     "name": "stderr",
     "output_type": "stream",
     "text": [
      " 17%|███████▏                                  | 17/100 [01:12<06:36,  4.78s/it]"
     ]
    },
    {
     "name": "stdout",
     "output_type": "stream",
     "text": [
      "✅ Subtitle saved.\n",
      "\n",
      "=== Processing tt2172071 ===\n",
      "✅ Description saved.\n",
      "✅ Poster saved.\n"
     ]
    },
    {
     "name": "stderr",
     "output_type": "stream",
     "text": [
      " 18%|███████▌                                  | 18/100 [01:18<06:51,  5.02s/it]"
     ]
    },
    {
     "name": "stdout",
     "output_type": "stream",
     "text": [
      "✅ Subtitle saved.\n",
      "\n",
      "=== Processing tt3483646 ===\n",
      "✅ Description saved.\n",
      "✅ Poster saved.\n"
     ]
    },
    {
     "name": "stderr",
     "output_type": "stream",
     "text": [
      " 19%|███████▉                                  | 19/100 [01:23<06:51,  5.08s/it]"
     ]
    },
    {
     "name": "stdout",
     "output_type": "stream",
     "text": [
      "✅ Subtitle saved.\n",
      "\n",
      "=== Processing tt2359810 ===\n",
      "✅ Description saved.\n",
      "✅ Poster saved.\n"
     ]
    },
    {
     "name": "stderr",
     "output_type": "stream",
     "text": [
      " 20%|████████▍                                 | 20/100 [01:29<06:54,  5.18s/it]"
     ]
    },
    {
     "name": "stdout",
     "output_type": "stream",
     "text": [
      "✅ Subtitle saved.\n",
      "\n",
      "=== Processing tt2402131 ===\n",
      "✅ Description saved.\n",
      "✅ Poster saved.\n"
     ]
    },
    {
     "name": "stderr",
     "output_type": "stream",
     "text": [
      " 21%|████████▊                                 | 21/100 [01:33<06:33,  4.98s/it]"
     ]
    },
    {
     "name": "stdout",
     "output_type": "stream",
     "text": [
      "✅ Subtitle saved.\n",
      "\n",
      "=== Processing tt2016894 ===\n",
      "✅ Description saved.\n",
      "✅ Poster saved.\n"
     ]
    },
    {
     "name": "stderr",
     "output_type": "stream",
     "text": [
      " 22%|█████████▏                                | 22/100 [01:38<06:17,  4.84s/it]"
     ]
    },
    {
     "name": "stdout",
     "output_type": "stream",
     "text": [
      "✅ Subtitle saved.\n",
      "\n",
      "=== Processing tt4094820 ===\n",
      "✅ Description saved.\n",
      "✅ Poster saved.\n"
     ]
    },
    {
     "name": "stderr",
     "output_type": "stream",
     "text": [
      " 23%|█████████▋                                | 23/100 [01:40<05:20,  4.17s/it]"
     ]
    },
    {
     "name": "stdout",
     "output_type": "stream",
     "text": [
      "⚠️ No subtitles found.\n",
      "\n",
      "=== Processing tt3001638 ===\n",
      "✅ Description saved.\n",
      "✅ Poster saved.\n"
     ]
    },
    {
     "name": "stderr",
     "output_type": "stream",
     "text": [
      " 24%|██████████                                | 24/100 [01:44<05:20,  4.21s/it]"
     ]
    },
    {
     "name": "stdout",
     "output_type": "stream",
     "text": [
      "✅ Subtitle saved.\n",
      "\n",
      "=== Processing tt2403201 ===\n",
      "❌ TMDb description error: list index out of range\n",
      "✅ Poster saved.\n"
     ]
    },
    {
     "name": "stderr",
     "output_type": "stream",
     "text": [
      " 25%|██████████▌                               | 25/100 [01:47<04:46,  3.82s/it]"
     ]
    },
    {
     "name": "stdout",
     "output_type": "stream",
     "text": [
      "⚠️ No subtitles found.\n",
      "\n",
      "=== Processing tt3666258 ===\n",
      "✅ Description saved.\n",
      "✅ Poster saved.\n"
     ]
    },
    {
     "name": "stderr",
     "output_type": "stream",
     "text": [
      " 26%|██████████▉                               | 26/100 [01:51<04:43,  3.83s/it]"
     ]
    },
    {
     "name": "stdout",
     "output_type": "stream",
     "text": [
      "✅ Subtitle saved.\n",
      "\n",
      "=== Processing tt4979082 ===\n",
      "✅ Description saved.\n",
      "✅ Poster saved.\n"
     ]
    },
    {
     "name": "stderr",
     "output_type": "stream",
     "text": [
      " 27%|███████████▎                              | 27/100 [01:56<04:51,  4.00s/it]"
     ]
    },
    {
     "name": "stdout",
     "output_type": "stream",
     "text": [
      "✅ Subtitle saved.\n",
      "\n",
      "=== Processing tt2255934 ===\n",
      "✅ Description saved.\n",
      "✅ Poster saved.\n"
     ]
    },
    {
     "name": "stderr",
     "output_type": "stream",
     "text": [
      " 28%|███████████▊                              | 28/100 [02:01<05:19,  4.43s/it]"
     ]
    },
    {
     "name": "stdout",
     "output_type": "stream",
     "text": [
      "✅ Subtitle saved.\n",
      "\n",
      "=== Processing tt7881524 ===\n",
      "✅ Description saved.\n",
      "✅ Poster saved.\n"
     ]
    },
    {
     "name": "stderr",
     "output_type": "stream",
     "text": [
      " 29%|████████████▏                             | 29/100 [02:05<05:12,  4.39s/it]"
     ]
    },
    {
     "name": "stdout",
     "output_type": "stream",
     "text": [
      "✅ Subtitle saved.\n",
      "\n",
      "=== Processing tt2372678 ===\n",
      "✅ Description saved.\n",
      "✅ Poster saved.\n"
     ]
    },
    {
     "name": "stderr",
     "output_type": "stream",
     "text": [
      " 30%|████████████▌                             | 30/100 [02:10<05:12,  4.46s/it]"
     ]
    },
    {
     "name": "stdout",
     "output_type": "stream",
     "text": [
      "✅ Subtitle saved.\n",
      "\n",
      "=== Processing tt2171454 ===\n",
      "✅ Description saved.\n",
      "✅ Poster saved.\n"
     ]
    },
    {
     "name": "stderr",
     "output_type": "stream",
     "text": [
      " 31%|█████████████                             | 31/100 [02:15<05:16,  4.59s/it]"
     ]
    },
    {
     "name": "stdout",
     "output_type": "stream",
     "text": [
      "✅ Subtitle saved.\n",
      "\n",
      "=== Processing tt4500734 ===\n",
      "✅ Description saved.\n",
      "✅ Poster saved.\n"
     ]
    },
    {
     "name": "stderr",
     "output_type": "stream",
     "text": [
      " 32%|█████████████▍                            | 32/100 [02:20<05:15,  4.65s/it]"
     ]
    },
    {
     "name": "stdout",
     "output_type": "stream",
     "text": [
      "✅ Subtitle saved.\n",
      "\n",
      "=== Processing tt5240748 ===\n",
      "✅ Description saved.\n",
      "✅ Poster saved.\n"
     ]
    },
    {
     "name": "stderr",
     "output_type": "stream",
     "text": [
      " 33%|█████████████▊                            | 33/100 [02:24<05:09,  4.62s/it]"
     ]
    },
    {
     "name": "stdout",
     "output_type": "stream",
     "text": [
      "✅ Subtitle saved.\n",
      "\n",
      "=== Processing tt2556308 ===\n",
      "✅ Description saved.\n",
      "✅ Poster saved.\n"
     ]
    },
    {
     "name": "stderr",
     "output_type": "stream",
     "text": [
      " 34%|██████████████▎                           | 34/100 [02:29<05:11,  4.72s/it]"
     ]
    },
    {
     "name": "stdout",
     "output_type": "stream",
     "text": [
      "✅ Subtitle saved.\n",
      "\n",
      "=== Processing tt2976172 ===\n",
      "✅ Description saved.\n",
      "✅ Poster saved.\n"
     ]
    },
    {
     "name": "stderr",
     "output_type": "stream",
     "text": [
      " 35%|██████████████▋                           | 35/100 [02:35<05:32,  5.12s/it]"
     ]
    },
    {
     "name": "stdout",
     "output_type": "stream",
     "text": [
      "✅ Subtitle saved.\n",
      "\n",
      "=== Processing tt3495030 ===\n",
      "✅ Description saved.\n",
      "✅ Poster saved.\n"
     ]
    },
    {
     "name": "stderr",
     "output_type": "stream",
     "text": [
      " 36%|███████████████                           | 36/100 [02:40<05:30,  5.16s/it]"
     ]
    },
    {
     "name": "stdout",
     "output_type": "stream",
     "text": [
      "✅ Subtitle saved.\n",
      "\n",
      "=== Processing tt2224317 ===\n",
      "✅ Description saved.\n",
      "✅ Poster saved.\n"
     ]
    },
    {
     "name": "stderr",
     "output_type": "stream",
     "text": [
      " 37%|███████████████▌                          | 37/100 [02:45<05:11,  4.94s/it]"
     ]
    },
    {
     "name": "stdout",
     "output_type": "stream",
     "text": [
      "✅ Subtitle saved.\n",
      "\n",
      "=== Processing tt7469726 ===\n",
      "✅ Description saved.\n",
      "✅ Poster saved.\n"
     ]
    },
    {
     "name": "stderr",
     "output_type": "stream",
     "text": [
      " 38%|███████████████▉                          | 38/100 [02:51<05:32,  5.36s/it]"
     ]
    },
    {
     "name": "stdout",
     "output_type": "stream",
     "text": [
      "✅ Subtitle saved.\n",
      "\n",
      "=== Processing tt1826763 ===\n",
      "✅ Description saved.\n",
      "✅ Poster saved.\n"
     ]
    },
    {
     "name": "stderr",
     "output_type": "stream",
     "text": [
      " 39%|████████████████▍                         | 39/100 [02:54<04:34,  4.49s/it]"
     ]
    },
    {
     "name": "stdout",
     "output_type": "stream",
     "text": [
      "⚠️ No subtitles found.\n",
      "\n",
      "=== Processing tt1806913 ===\n",
      "✅ Description saved.\n",
      "✅ Poster saved.\n"
     ]
    },
    {
     "name": "stderr",
     "output_type": "stream",
     "text": [
      " 40%|████████████████▊                         | 40/100 [02:58<04:30,  4.51s/it]"
     ]
    },
    {
     "name": "stdout",
     "output_type": "stream",
     "text": [
      "✅ Subtitle saved.\n",
      "\n",
      "=== Processing tt7274806 ===\n",
      "✅ Description saved.\n",
      "✅ Poster saved.\n"
     ]
    },
    {
     "name": "stderr",
     "output_type": "stream",
     "text": [
      " 41%|█████████████████▏                        | 41/100 [03:03<04:23,  4.46s/it]"
     ]
    },
    {
     "name": "stdout",
     "output_type": "stream",
     "text": [
      "✅ Subtitle saved.\n",
      "\n",
      "=== Processing tt2203308 ===\n",
      "✅ Description saved.\n",
      "✅ Poster saved.\n"
     ]
    },
    {
     "name": "stderr",
     "output_type": "stream",
     "text": [
      " 42%|█████████████████▋                        | 42/100 [03:07<04:18,  4.45s/it]"
     ]
    },
    {
     "name": "stdout",
     "output_type": "stream",
     "text": [
      "✅ Subtitle saved.\n",
      "\n",
      "=== Processing tt1954598 ===\n",
      "✅ Description saved.\n",
      "✅ Poster saved.\n"
     ]
    },
    {
     "name": "stderr",
     "output_type": "stream",
     "text": [
      " 43%|██████████████████                        | 43/100 [03:13<04:31,  4.77s/it]"
     ]
    },
    {
     "name": "stdout",
     "output_type": "stream",
     "text": [
      "✅ Subtitle saved.\n",
      "\n",
      "=== Processing tt7743400 ===\n",
      "✅ Description saved.\n",
      "✅ Poster saved.\n"
     ]
    },
    {
     "name": "stderr",
     "output_type": "stream",
     "text": [
      " 44%|██████████████████▍                       | 44/100 [03:15<03:50,  4.12s/it]"
     ]
    },
    {
     "name": "stdout",
     "output_type": "stream",
     "text": [
      "⚠️ No subtitles found.\n",
      "\n",
      "=== Processing tt8110330 ===\n",
      "✅ Description saved.\n",
      "✅ Poster saved.\n"
     ]
    },
    {
     "name": "stderr",
     "output_type": "stream",
     "text": [
      " 45%|██████████████████▉                       | 45/100 [03:20<03:56,  4.30s/it]"
     ]
    },
    {
     "name": "stdout",
     "output_type": "stream",
     "text": [
      "✅ Subtitle saved.\n",
      "\n",
      "=== Processing tt10324144 ===\n",
      "✅ Description saved.\n",
      "✅ Poster saved.\n"
     ]
    },
    {
     "name": "stderr",
     "output_type": "stream",
     "text": [
      " 46%|███████████████████▎                      | 46/100 [03:24<03:56,  4.39s/it]"
     ]
    },
    {
     "name": "stdout",
     "output_type": "stream",
     "text": [
      "✅ Subtitle saved.\n",
      "\n",
      "=== Processing tt2727028 ===\n",
      "✅ Description saved.\n",
      "✅ Poster saved.\n"
     ]
    },
    {
     "name": "stderr",
     "output_type": "stream",
     "text": [
      " 47%|███████████████████▋                      | 47/100 [03:30<04:07,  4.67s/it]"
     ]
    },
    {
     "name": "stdout",
     "output_type": "stream",
     "text": [
      "✅ Subtitle saved.\n",
      "\n",
      "=== Processing tt2357926 ===\n",
      "✅ Description saved.\n",
      "✅ Poster saved.\n"
     ]
    },
    {
     "name": "stderr",
     "output_type": "stream",
     "text": [
      " 48%|████████████████████▏                     | 48/100 [03:35<04:14,  4.89s/it]"
     ]
    },
    {
     "name": "stdout",
     "output_type": "stream",
     "text": [
      "✅ Subtitle saved.\n",
      "\n",
      "=== Processing tt7778680 ===\n",
      "✅ Description saved.\n",
      "✅ Poster saved.\n"
     ]
    },
    {
     "name": "stderr",
     "output_type": "stream",
     "text": [
      " 49%|████████████████████▌                     | 49/100 [03:40<04:05,  4.81s/it]"
     ]
    },
    {
     "name": "stdout",
     "output_type": "stream",
     "text": [
      "✅ Subtitle saved.\n",
      "\n",
      "=== Processing tt1821480 ===\n",
      "✅ Description saved.\n",
      "✅ Poster saved.\n"
     ]
    },
    {
     "name": "stderr",
     "output_type": "stream",
     "text": [
      " 50%|█████████████████████                     | 50/100 [03:45<04:01,  4.83s/it]"
     ]
    },
    {
     "name": "stdout",
     "output_type": "stream",
     "text": [
      "✅ Subtitle saved.\n",
      "\n",
      "=== Processing tt3614516 ===\n",
      "✅ Description saved.\n",
      "✅ Poster saved.\n"
     ]
    },
    {
     "name": "stderr",
     "output_type": "stream",
     "text": [
      " 51%|█████████████████████▍                    | 51/100 [03:50<04:01,  4.93s/it]"
     ]
    },
    {
     "name": "stdout",
     "output_type": "stream",
     "text": [
      "✅ Subtitle saved.\n",
      "\n",
      "=== Processing tt4287778 ===\n",
      "✅ Description saved.\n",
      "✅ Poster saved.\n"
     ]
    },
    {
     "name": "stderr",
     "output_type": "stream",
     "text": [
      " 52%|█████████████████████▊                    | 52/100 [03:54<03:46,  4.72s/it]"
     ]
    },
    {
     "name": "stdout",
     "output_type": "stream",
     "text": [
      "✅ Subtitle saved.\n",
      "\n",
      "=== Processing tt6978268 ===\n",
      "✅ Description saved.\n",
      "✅ Poster saved.\n"
     ]
    },
    {
     "name": "stderr",
     "output_type": "stream",
     "text": [
      " 53%|██████████████████████▎                   | 53/100 [03:58<03:24,  4.35s/it]"
     ]
    },
    {
     "name": "stdout",
     "output_type": "stream",
     "text": [
      "⚠️ No subtitles found.\n",
      "\n",
      "=== Processing tt1785333 ===\n",
      "✅ Description saved.\n",
      "✅ Poster saved.\n"
     ]
    },
    {
     "name": "stderr",
     "output_type": "stream",
     "text": [
      " 54%|██████████████████████▋                   | 54/100 [04:06<04:12,  5.49s/it]"
     ]
    },
    {
     "name": "stdout",
     "output_type": "stream",
     "text": [
      "✅ Subtitle saved.\n",
      "\n",
      "=== Processing tt2615584 ===\n",
      "✅ Description saved.\n",
      "✅ Poster saved.\n"
     ]
    },
    {
     "name": "stderr",
     "output_type": "stream",
     "text": [
      " 55%|███████████████████████                   | 55/100 [04:11<04:08,  5.53s/it]"
     ]
    },
    {
     "name": "stdout",
     "output_type": "stream",
     "text": [
      "✅ Subtitle saved.\n",
      "\n",
      "=== Processing tt2202086 ===\n",
      "✅ Description saved.\n",
      "✅ Poster saved.\n"
     ]
    },
    {
     "name": "stderr",
     "output_type": "stream",
     "text": [
      " 56%|███████████████████████▌                  | 56/100 [04:16<03:56,  5.38s/it]"
     ]
    },
    {
     "name": "stdout",
     "output_type": "stream",
     "text": [
      "✅ Subtitle saved.\n",
      "\n",
      "=== Processing tt1667076 ===\n",
      "✅ Description saved.\n",
      "✅ Poster saved.\n"
     ]
    },
    {
     "name": "stderr",
     "output_type": "stream",
     "text": [
      " 57%|███████████████████████▉                  | 57/100 [04:22<03:52,  5.40s/it]"
     ]
    },
    {
     "name": "stdout",
     "output_type": "stream",
     "text": [
      "✅ Subtitle saved.\n",
      "\n",
      "=== Processing tt3735246 ===\n",
      "✅ Description saved.\n",
      "✅ Poster saved.\n"
     ]
    },
    {
     "name": "stderr",
     "output_type": "stream",
     "text": [
      " 58%|████████████████████████▎                 | 58/100 [04:26<03:29,  5.00s/it]"
     ]
    },
    {
     "name": "stdout",
     "output_type": "stream",
     "text": [
      "✅ Subtitle saved.\n",
      "\n",
      "=== Processing tt4219300 ===\n",
      "✅ Description saved.\n",
      "✅ Poster saved.\n"
     ]
    },
    {
     "name": "stderr",
     "output_type": "stream",
     "text": [
      " 59%|████████████████████████▊                 | 59/100 [04:31<03:24,  4.99s/it]"
     ]
    },
    {
     "name": "stdout",
     "output_type": "stream",
     "text": [
      "✅ Subtitle saved.\n",
      "\n",
      "=== Processing tt2140465 ===\n",
      "✅ Description saved.\n",
      "✅ Poster saved.\n"
     ]
    },
    {
     "name": "stderr",
     "output_type": "stream",
     "text": [
      " 60%|█████████████████████████▏                | 60/100 [04:37<03:33,  5.35s/it]"
     ]
    },
    {
     "name": "stdout",
     "output_type": "stream",
     "text": [
      "✅ Subtitle saved.\n",
      "\n",
      "=== Processing tt2392447 ===\n",
      "✅ Description saved.\n",
      "✅ Poster saved.\n"
     ]
    },
    {
     "name": "stderr",
     "output_type": "stream",
     "text": [
      " 61%|█████████████████████████▌                | 61/100 [04:42<03:21,  5.16s/it]"
     ]
    },
    {
     "name": "stdout",
     "output_type": "stream",
     "text": [
      "✅ Subtitle saved.\n",
      "\n",
      "=== Processing tt3322420 ===\n",
      "✅ Description saved.\n",
      "✅ Poster saved.\n"
     ]
    },
    {
     "name": "stderr",
     "output_type": "stream",
     "text": [
      " 62%|██████████████████████████                | 62/100 [04:47<03:13,  5.09s/it]"
     ]
    },
    {
     "name": "stdout",
     "output_type": "stream",
     "text": [
      "✅ Subtitle saved.\n",
      "\n",
      "=== Processing tt6826438 ===\n",
      "✅ Description saved.\n",
      "✅ Poster saved.\n"
     ]
    },
    {
     "name": "stderr",
     "output_type": "stream",
     "text": [
      " 63%|██████████████████████████▍               | 63/100 [04:52<03:08,  5.09s/it]"
     ]
    },
    {
     "name": "stdout",
     "output_type": "stream",
     "text": [
      "✅ Subtitle saved.\n",
      "\n",
      "=== Processing tt4906984 ===\n",
      "✅ Description saved.\n",
      "✅ Poster saved.\n"
     ]
    },
    {
     "name": "stderr",
     "output_type": "stream",
     "text": [
      " 64%|██████████████████████████▉               | 64/100 [04:57<03:08,  5.25s/it]"
     ]
    },
    {
     "name": "stdout",
     "output_type": "stream",
     "text": [
      "✅ Subtitle saved.\n",
      "\n",
      "=== Processing tt6452574 ===\n",
      "✅ Description saved.\n",
      "✅ Poster saved.\n"
     ]
    },
    {
     "name": "stderr",
     "output_type": "stream",
     "text": [
      " 65%|███████████████████████████▎              | 65/100 [05:04<03:22,  5.78s/it]"
     ]
    },
    {
     "name": "stdout",
     "output_type": "stream",
     "text": [
      "✅ Subtitle saved.\n",
      "\n",
      "=== Processing tt4559006 ===\n",
      "✅ Description saved.\n",
      "✅ Poster saved.\n"
     ]
    },
    {
     "name": "stderr",
     "output_type": "stream",
     "text": [
      " 66%|███████████████████████████▋              | 66/100 [05:08<02:58,  5.26s/it]"
     ]
    },
    {
     "name": "stdout",
     "output_type": "stream",
     "text": [
      "✅ Subtitle saved.\n",
      "\n",
      "=== Processing tt8202612 ===\n",
      "✅ Description saved.\n",
      "✅ Poster saved.\n"
     ]
    },
    {
     "name": "stderr",
     "output_type": "stream",
     "text": [
      " 67%|████████████████████████████▏             | 67/100 [05:14<02:54,  5.29s/it]"
     ]
    },
    {
     "name": "stdout",
     "output_type": "stream",
     "text": [
      "✅ Subtitle saved.\n",
      "\n",
      "=== Processing tt1395025 ===\n",
      "✅ Description saved.\n",
      "✅ Poster saved.\n"
     ]
    },
    {
     "name": "stderr",
     "output_type": "stream",
     "text": [
      " 68%|████████████████████████████▌             | 68/100 [05:20<02:57,  5.55s/it]"
     ]
    },
    {
     "name": "stdout",
     "output_type": "stream",
     "text": [
      "✅ Subtitle saved.\n",
      "\n",
      "=== Processing tt5502766 ===\n",
      "✅ Description saved.\n",
      "✅ Poster saved.\n"
     ]
    },
    {
     "name": "stderr",
     "output_type": "stream",
     "text": [
      " 69%|████████████████████████████▉             | 69/100 [05:25<02:45,  5.32s/it]"
     ]
    },
    {
     "name": "stdout",
     "output_type": "stream",
     "text": [
      "✅ Subtitle saved.\n",
      "\n",
      "=== Processing tt6791730 ===\n",
      "✅ Description saved.\n",
      "✅ Poster saved.\n"
     ]
    },
    {
     "name": "stderr",
     "output_type": "stream",
     "text": [
      " 70%|█████████████████████████████▍            | 70/100 [05:30<02:39,  5.32s/it]"
     ]
    },
    {
     "name": "stdout",
     "output_type": "stream",
     "text": [
      "✅ Subtitle saved.\n",
      "\n",
      "=== Processing tt4718678 ===\n",
      "❌ TMDb description error: list index out of range\n",
      "✅ Poster saved.\n"
     ]
    },
    {
     "name": "stderr",
     "output_type": "stream",
     "text": [
      " 71%|█████████████████████████████▊            | 71/100 [05:33<02:12,  4.58s/it]"
     ]
    },
    {
     "name": "stdout",
     "output_type": "stream",
     "text": [
      "⚠️ No subtitles found.\n",
      "\n",
      "=== Processing tt1833673 ===\n",
      "✅ Description saved.\n",
      "✅ Poster saved.\n"
     ]
    },
    {
     "name": "stderr",
     "output_type": "stream",
     "text": [
      " 72%|██████████████████████████████▏           | 72/100 [05:39<02:24,  5.17s/it]"
     ]
    },
    {
     "name": "stdout",
     "output_type": "stream",
     "text": [
      "✅ Subtitle saved.\n",
      "\n",
      "=== Processing tt4169250 ===\n",
      "✅ Description saved.\n",
      "✅ Poster saved.\n"
     ]
    },
    {
     "name": "stderr",
     "output_type": "stream",
     "text": [
      " 73%|██████████████████████████████▋           | 73/100 [05:45<02:23,  5.31s/it]"
     ]
    },
    {
     "name": "stdout",
     "output_type": "stream",
     "text": [
      "✅ Subtitle saved.\n",
      "\n",
      "=== Processing tt2317103 ===\n",
      "✅ Description saved.\n",
      "✅ Poster saved.\n"
     ]
    },
    {
     "name": "stderr",
     "output_type": "stream",
     "text": [
      " 74%|███████████████████████████████           | 74/100 [05:50<02:12,  5.11s/it]"
     ]
    },
    {
     "name": "stdout",
     "output_type": "stream",
     "text": [
      "✅ Subtitle saved.\n",
      "\n",
      "=== Processing tt8136908 ===\n",
      "✅ Description saved.\n",
      "✅ Poster saved.\n"
     ]
    },
    {
     "name": "stderr",
     "output_type": "stream",
     "text": [
      " 75%|███████████████████████████████▌          | 75/100 [05:55<02:05,  5.02s/it]"
     ]
    },
    {
     "name": "stdout",
     "output_type": "stream",
     "text": [
      "✅ Subtitle saved.\n",
      "\n",
      "=== Processing tt2150177 ===\n",
      "✅ Description saved.\n",
      "✅ Poster saved.\n"
     ]
    },
    {
     "name": "stderr",
     "output_type": "stream",
     "text": [
      " 76%|███████████████████████████████▉          | 76/100 [05:57<01:43,  4.32s/it]"
     ]
    },
    {
     "name": "stdout",
     "output_type": "stream",
     "text": [
      "⚠️ No subtitles found.\n",
      "\n",
      "=== Processing tt4129428 ===\n",
      "✅ Description saved.\n",
      "✅ Poster saved.\n"
     ]
    },
    {
     "name": "stderr",
     "output_type": "stream",
     "text": [
      " 77%|████████████████████████████████▎         | 77/100 [06:03<01:46,  4.63s/it]"
     ]
    },
    {
     "name": "stdout",
     "output_type": "stream",
     "text": [
      "✅ Subtitle saved.\n",
      "\n",
      "=== Processing tt2378057 ===\n",
      "✅ Description saved.\n",
      "⚠️ No poster path available.\n"
     ]
    },
    {
     "name": "stderr",
     "output_type": "stream",
     "text": [
      " 78%|████████████████████████████████▊         | 78/100 [06:04<01:21,  3.72s/it]"
     ]
    },
    {
     "name": "stdout",
     "output_type": "stream",
     "text": [
      "⚠️ No subtitles found.\n",
      "\n",
      "=== Processing tt8504014 ===\n",
      "✅ Description saved.\n",
      "✅ Poster saved.\n"
     ]
    },
    {
     "name": "stderr",
     "output_type": "stream",
     "text": [
      " 79%|█████████████████████████████████▏        | 79/100 [06:10<01:28,  4.23s/it]"
     ]
    },
    {
     "name": "stdout",
     "output_type": "stream",
     "text": [
      "✅ Subtitle saved.\n",
      "\n",
      "=== Processing tt4683366 ===\n",
      "✅ Description saved.\n",
      "✅ Poster saved.\n"
     ]
    },
    {
     "name": "stderr",
     "output_type": "stream",
     "text": [
      " 80%|█████████████████████████████████▌        | 80/100 [06:14<01:26,  4.33s/it]"
     ]
    },
    {
     "name": "stdout",
     "output_type": "stream",
     "text": [
      "✅ Subtitle saved.\n",
      "\n",
      "=== Processing tt2066925 ===\n",
      "✅ Description saved.\n",
      "✅ Poster saved.\n"
     ]
    },
    {
     "name": "stderr",
     "output_type": "stream",
     "text": [
      " 81%|██████████████████████████████████        | 81/100 [06:21<01:35,  5.01s/it]"
     ]
    },
    {
     "name": "stdout",
     "output_type": "stream",
     "text": [
      "✅ Subtitle saved.\n",
      "\n",
      "=== Processing tt2292625 ===\n",
      "✅ Description saved.\n",
      "✅ Poster saved.\n"
     ]
    },
    {
     "name": "stderr",
     "output_type": "stream",
     "text": [
      " 82%|██████████████████████████████████▍       | 82/100 [06:26<01:30,  5.02s/it]"
     ]
    },
    {
     "name": "stdout",
     "output_type": "stream",
     "text": [
      "✅ Subtitle saved.\n",
      "\n",
      "=== Processing tt4940456 ===\n",
      "✅ Description saved.\n",
      "✅ Poster saved.\n"
     ]
    },
    {
     "name": "stderr",
     "output_type": "stream",
     "text": [
      " 83%|██████████████████████████████████▊       | 83/100 [06:33<01:36,  5.67s/it]"
     ]
    },
    {
     "name": "stdout",
     "output_type": "stream",
     "text": [
      "✅ Subtitle saved.\n",
      "\n",
      "=== Processing tt2112131 ===\n",
      "✅ Description saved.\n",
      "✅ Poster saved.\n"
     ]
    },
    {
     "name": "stderr",
     "output_type": "stream",
     "text": [
      " 84%|███████████████████████████████████▎      | 84/100 [06:38<01:28,  5.50s/it]"
     ]
    },
    {
     "name": "stdout",
     "output_type": "stream",
     "text": [
      "✅ Subtitle saved.\n",
      "\n",
      "=== Processing tt6986710 ===\n",
      "✅ Description saved.\n",
      "✅ Poster saved.\n"
     ]
    },
    {
     "name": "stderr",
     "output_type": "stream",
     "text": [
      " 85%|███████████████████████████████████▋      | 85/100 [06:43<01:21,  5.44s/it]"
     ]
    },
    {
     "name": "stdout",
     "output_type": "stream",
     "text": [
      "✅ Subtitle saved.\n",
      "\n",
      "=== Processing tt3877652 ===\n",
      "✅ Description saved.\n",
      "✅ Poster saved.\n"
     ]
    },
    {
     "name": "stderr",
     "output_type": "stream",
     "text": [
      " 86%|████████████████████████████████████      | 86/100 [06:48<01:14,  5.31s/it]"
     ]
    },
    {
     "name": "stdout",
     "output_type": "stream",
     "text": [
      "✅ Subtitle saved.\n",
      "\n",
      "=== Processing tt4384270 ===\n",
      "❌ TMDb description error: list index out of range\n",
      "✅ Poster saved.\n"
     ]
    },
    {
     "name": "stderr",
     "output_type": "stream",
     "text": [
      " 87%|████████████████████████████████████▌     | 87/100 [06:52<01:00,  4.65s/it]"
     ]
    },
    {
     "name": "stdout",
     "output_type": "stream",
     "text": [
      "⚠️ No subtitles found.\n",
      "\n",
      "=== Processing tt4971258 ===\n",
      "✅ Description saved.\n",
      "✅ Poster saved.\n"
     ]
    },
    {
     "name": "stderr",
     "output_type": "stream",
     "text": [
      " 88%|████████████████████████████████████▉     | 88/100 [06:58<01:01,  5.14s/it]"
     ]
    },
    {
     "name": "stdout",
     "output_type": "stream",
     "text": [
      "✅ Subtitle saved.\n",
      "\n",
      "=== Processing tt3449292 ===\n",
      "✅ Description saved.\n",
      "✅ Poster saved.\n"
     ]
    },
    {
     "name": "stderr",
     "output_type": "stream",
     "text": [
      " 89%|█████████████████████████████████████▍    | 89/100 [07:03<00:57,  5.20s/it]"
     ]
    },
    {
     "name": "stdout",
     "output_type": "stream",
     "text": [
      "✅ Subtitle saved.\n",
      "\n",
      "=== Processing tt4262516 ===\n",
      "✅ Description saved.\n",
      "✅ Poster saved.\n"
     ]
    },
    {
     "name": "stderr",
     "output_type": "stream",
     "text": [
      " 90%|█████████████████████████████████████▊    | 90/100 [07:08<00:51,  5.15s/it]"
     ]
    },
    {
     "name": "stdout",
     "output_type": "stream",
     "text": [
      "✅ Subtitle saved.\n",
      "\n",
      "=== Processing tt4594848 ===\n",
      "✅ Description saved.\n",
      "✅ Poster saved.\n"
     ]
    },
    {
     "name": "stderr",
     "output_type": "stream",
     "text": [
      " 91%|██████████████████████████████████████▏   | 91/100 [07:11<00:39,  4.35s/it]"
     ]
    },
    {
     "name": "stdout",
     "output_type": "stream",
     "text": [
      "⚠️ No subtitles found.\n",
      "\n",
      "=== Processing tt2222716 ===\n",
      "✅ Description saved.\n",
      "✅ Poster saved.\n"
     ]
    },
    {
     "name": "stderr",
     "output_type": "stream",
     "text": [
      " 92%|██████████████████████████████████████▋   | 92/100 [07:14<00:31,  3.91s/it]"
     ]
    },
    {
     "name": "stdout",
     "output_type": "stream",
     "text": [
      "⚠️ No subtitles found.\n",
      "\n",
      "=== Processing tt7720254 ===\n",
      "✅ Description saved.\n",
      "✅ Poster saved.\n"
     ]
    },
    {
     "name": "stderr",
     "output_type": "stream",
     "text": [
      " 93%|███████████████████████████████████████   | 93/100 [07:17<00:26,  3.73s/it]"
     ]
    },
    {
     "name": "stdout",
     "output_type": "stream",
     "text": [
      "⚠️ No subtitles found.\n",
      "\n",
      "=== Processing tt5543746 ===\n",
      "✅ Description saved.\n",
      "✅ Poster saved.\n"
     ]
    },
    {
     "name": "stderr",
     "output_type": "stream",
     "text": [
      " 94%|███████████████████████████████████████▍  | 94/100 [07:21<00:22,  3.83s/it]"
     ]
    },
    {
     "name": "stdout",
     "output_type": "stream",
     "text": [
      "✅ Subtitle saved.\n",
      "\n",
      "=== Processing tt9319812 ===\n",
      "✅ Description saved.\n",
      "✅ Poster saved.\n"
     ]
    },
    {
     "name": "stderr",
     "output_type": "stream",
     "text": [
      " 95%|███████████████████████████████████████▉  | 95/100 [07:25<00:20,  4.01s/it]"
     ]
    },
    {
     "name": "stdout",
     "output_type": "stream",
     "text": [
      "✅ Subtitle saved.\n",
      "\n",
      "=== Processing tt5935704 ===\n",
      "✅ Description saved.\n",
      "✅ Poster saved.\n"
     ]
    },
    {
     "name": "stderr",
     "output_type": "stream",
     "text": [
      " 96%|████████████████████████████████████████▎ | 96/100 [07:30<00:16,  4.17s/it]"
     ]
    },
    {
     "name": "stdout",
     "output_type": "stream",
     "text": [
      "✅ Subtitle saved.\n",
      "\n",
      "=== Processing tt3678782 ===\n",
      "✅ Description saved.\n",
      "✅ Poster saved.\n"
     ]
    },
    {
     "name": "stderr",
     "output_type": "stream",
     "text": [
      " 97%|████████████████████████████████████████▋ | 97/100 [07:35<00:13,  4.41s/it]"
     ]
    },
    {
     "name": "stdout",
     "output_type": "stream",
     "text": [
      "✅ Subtitle saved.\n",
      "\n",
      "=== Processing tt3848892 ===\n",
      "✅ Description saved.\n",
      "✅ Poster saved.\n"
     ]
    },
    {
     "name": "stderr",
     "output_type": "stream",
     "text": [
      " 98%|█████████████████████████████████████████▏| 98/100 [07:40<00:09,  4.67s/it]"
     ]
    },
    {
     "name": "stdout",
     "output_type": "stream",
     "text": [
      "✅ Subtitle saved.\n",
      "\n",
      "=== Processing tt4309284 ===\n",
      "✅ Description saved.\n",
      "⚠️ No poster path available.\n"
     ]
    },
    {
     "name": "stderr",
     "output_type": "stream",
     "text": [
      " 99%|█████████████████████████████████████████▌| 99/100 [07:44<00:04,  4.48s/it]"
     ]
    },
    {
     "name": "stdout",
     "output_type": "stream",
     "text": [
      "✅ Subtitle saved.\n",
      "\n",
      "=== Processing tt6334874 ===\n",
      "✅ Description saved.\n",
      "✅ Poster saved.\n"
     ]
    },
    {
     "name": "stderr",
     "output_type": "stream",
     "text": [
      "100%|█████████████████████████████████████████| 100/100 [07:49<00:00,  4.69s/it]"
     ]
    },
    {
     "name": "stdout",
     "output_type": "stream",
     "text": [
      "✅ Subtitle saved.\n",
      "📄 Saved report to download_report.csv\n",
      "✅ Script finished.\n"
     ]
    },
    {
     "name": "stderr",
     "output_type": "stream",
     "text": [
      "\n"
     ]
    }
   ],
   "source": [
    "#Bollywood Data Downloader \n",
    "# 25th July 2025\n",
    "\n",
    "#Importing and Calling Packages \n",
    "import os\n",
    "import time\n",
    "import requests\n",
    "import pandas as pd\n",
    "from tqdm import tqdm\n",
    "\n",
    "#Keys, File Paths and Passwords \n",
    "#NOTE: Contains API Keys and Passwords \n",
    "tmdb_api_key = \"ef74866feee9084817794614ffbae21d\"\n",
    "tmdb_user_agent = \"RAApp/1.0.0\"\n",
    "\n",
    "opensub_api_key = \"V8cxCT3494611SyHgQRVHbetkQEZVTHW\"\n",
    "opensub_username = \"rishabh_bijani\"\n",
    "opensub_password = \"Rishabhb2004!\"  \n",
    "\n",
    "#PLEASE CHANGE FILE PATH ACCORDINGLY \n",
    "# PLEASE ENSURE - movies_random_sample.csv is in Desktop/ra_app\n",
    "csv_path = os.path.expanduser(\"~/Desktop/ra_app/movies_random_sample.csv\")\n",
    "\n",
    "\n",
    "\n",
    "base_folder = os.path.expanduser(\"~/Desktop/ra_app/data\")\n",
    "log_file = os.path.join(base_folder, \"log_downloads.txt\")\n",
    "\n",
    "#Creating Folders \n",
    "os.makedirs(os.path.join(base_folder, \"description\"), exist_ok=True)\n",
    "os.makedirs(os.path.join(base_folder, \"posters\"), exist_ok=True)\n",
    "os.makedirs(os.path.join(base_folder, \"subtitles\"), exist_ok=True)\n",
    "\n",
    "#Logging Function\n",
    "def log(msg):\n",
    "    print(msg)\n",
    "    with open(log_file, \"a\", encoding=\"utf-8\") as f:\n",
    "        f.write(msg + \"\\n\")\n",
    "\n",
    "#Login into OpenSubtitles \n",
    "log(\"🔐 Logging in to OpenSubtitles...\")\n",
    "login_url = \"https://api.opensubtitles.com/api/v1/login\"\n",
    "headers_login = {\n",
    "    \"Api-Key\": opensub_api_key,\n",
    "    \"Content-Type\": \"application/json\",\n",
    "    \"User-Agent\": tmdb_user_agent\n",
    "}\n",
    "payload = {\n",
    "    \"username\": opensub_username,\n",
    "    \"password\": opensub_password\n",
    "}\n",
    "\n",
    "login_resp = requests.post(login_url, headers=headers_login, json=payload)\n",
    "if login_resp.status_code == 200:\n",
    "    opensub_token = login_resp.json()[\"token\"]\n",
    "    log(\"✅ OpenSubtitles login successful.\")\n",
    "else:\n",
    "    log(\"❌ OpenSubtitles login failed: \" + login_resp.text)\n",
    "    raise Exception(\"Cannot proceed without OpenSubtitles token.\")\n",
    "\n",
    "#Download Loop\n",
    "df = pd.read_csv(csv_path)\n",
    "imdb_ids = df[\"imdb_id\"].dropna().unique()\n",
    "report_rows = []\n",
    "\n",
    "headers_auth = {\n",
    "    \"Authorization\": f\"Bearer {opensub_token}\",\n",
    "    \"Api-Key\": opensub_api_key,\n",
    "    \"Content-Type\": \"application/json\",\n",
    "    \"Accept\": \"application/json\",\n",
    "    \"User-Agent\": tmdb_user_agent\n",
    "}\n",
    "\n",
    "for imdb_id in tqdm(imdb_ids):\n",
    "    log(f\"\\n=== Processing {imdb_id} ===\")\n",
    "    desc_status = poster_status = sub_status = \"❌\"\n",
    "\n",
    "    # --- TMDb DESCRIPTION ---\n",
    "    try:\n",
    "        tmdb_url = f\"https://api.themoviedb.org/3/find/{imdb_id}?api_key={tmdb_api_key}&external_source=imdb_id\"\n",
    "        tmdb_resp = requests.get(tmdb_url)\n",
    "        if tmdb_resp.status_code == 200:\n",
    "            movie = tmdb_resp.json().get(\"movie_results\", [{}])[0]\n",
    "            overview = movie.get(\"overview\", \"\")\n",
    "            desc_path = os.path.join(base_folder, \"description\", f\"{imdb_id}.txt\")\n",
    "            with open(desc_path, \"w\", encoding=\"utf-8\") as f:\n",
    "                f.write(overview)\n",
    "            desc_status = \"✅\"\n",
    "            log(\"✅ Description saved.\")\n",
    "        else:\n",
    "            log(f\"❌ TMDb description failed (status {tmdb_resp.status_code})\")\n",
    "    except Exception as e:\n",
    "        log(f\"❌ TMDb description error: {e}\")\n",
    "\n",
    "    # --- TMDb POSTER ---\n",
    "    try:\n",
    "        poster_path = movie.get(\"poster_path\", \"\")\n",
    "        if poster_path:\n",
    "            poster_url = f\"https://image.tmdb.org/t/p/original{poster_path}\"\n",
    "            poster_resp = requests.get(poster_url)\n",
    "            if poster_resp.status_code == 200:\n",
    "                poster_file = os.path.join(base_folder, \"posters\", f\"{imdb_id}.png\")\n",
    "                with open(poster_file, \"wb\") as f:\n",
    "                    f.write(poster_resp.content)\n",
    "                poster_status = \"✅\"\n",
    "                log(\"✅ Poster saved.\")\n",
    "            else:\n",
    "                log(\"❌ Poster download failed.\")\n",
    "        else:\n",
    "            poster_status = \"⚠️\"\n",
    "            log(\"⚠️ No poster path available.\")\n",
    "    except Exception as e:\n",
    "        log(f\"❌ Poster error: {e}\")\n",
    "\n",
    "    # --- OpenSubtitles SUBTITLES ---\n",
    "    try:\n",
    "        search_url = f\"https://api.opensubtitles.com/api/v1/subtitles?imdb_id={imdb_id[2:]}&languages=en\"\n",
    "        sub_resp = requests.get(search_url, headers=headers_auth)\n",
    "        if sub_resp.status_code == 200:\n",
    "            results = sub_resp.json().get(\"data\", [])\n",
    "            if results:\n",
    "                file_id = results[0][\"attributes\"][\"files\"][0][\"file_id\"]\n",
    "                dl_resp = requests.post(\n",
    "                    \"https://api.opensubtitles.com/api/v1/download\",\n",
    "                    headers=headers_auth,\n",
    "                    json={\"file_id\": file_id}\n",
    "                )\n",
    "                if dl_resp.status_code == 200:\n",
    "                    dl_link = dl_resp.json()[\"link\"]\n",
    "                    srt_resp = requests.get(dl_link)\n",
    "                    if srt_resp.status_code == 200:\n",
    "                        sub_path = os.path.join(base_folder, \"subtitles\", f\"{imdb_id}.srt\")\n",
    "                        with open(sub_path, \"wb\") as f:\n",
    "                            f.write(srt_resp.content)\n",
    "                        sub_status = \"✅\"\n",
    "                        log(\"✅ Subtitle saved.\")\n",
    "                    else:\n",
    "                        log(\"❌ Subtitle download failed.\")\n",
    "                else:\n",
    "                    log(\"❌ Subtitle download link error.\")\n",
    "            else:\n",
    "                sub_status = \"⚠️\"\n",
    "                log(\"⚠️ No subtitles found.\")\n",
    "        else:\n",
    "            log(\"❌ Subtitle search failed.\")\n",
    "    except Exception as e:\n",
    "        log(f\"❌ Subtitle error: {e}\")\n",
    "\n",
    "    # --- Append to Report ---\n",
    "    report_rows.append({\n",
    "        \"imdb_id\": imdb_id,\n",
    "        \"description_status\": desc_status,\n",
    "        \"poster_status\": poster_status,\n",
    "        \"subtitle_status\": sub_status\n",
    "    })\n",
    "\n",
    "#CSV Download Report \n",
    "report_df = pd.DataFrame(report_rows)\n",
    "report_df.to_csv(os.path.join(base_folder, \"download_report.csv\"), index=False)\n",
    "log(\"📄 Saved report to download_report.csv\")\n",
    "log(\"✅ Script finished.\")"
   ]
  },
  {
   "cell_type": "code",
   "execution_count": null,
   "id": "62bcb84c",
   "metadata": {},
   "outputs": [],
   "source": []
  }
 ],
 "metadata": {
  "jupytext": {
   "formats": "ipynb,py:percent"
  },
  "kernelspec": {
   "display_name": "Python [conda env:base] *",
   "language": "python",
   "name": "conda-base-py"
  },
  "language_info": {
   "codemirror_mode": {
    "name": "ipython",
    "version": 3
   },
   "file_extension": ".py",
   "mimetype": "text/x-python",
   "name": "python",
   "nbconvert_exporter": "python",
   "pygments_lexer": "ipython3",
   "version": "3.12.7"
  }
 },
 "nbformat": 4,
 "nbformat_minor": 5
}
