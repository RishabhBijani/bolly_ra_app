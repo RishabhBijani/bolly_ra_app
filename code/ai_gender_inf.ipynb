{
 "cells": [
  {
   "cell_type": "code",
   "execution_count": 1,
   "id": "7939405e",
   "metadata": {
    "lines_to_next_cell": 3
   },
   "outputs": [
    {
     "name": "stderr",
     "output_type": "stream",
     "text": [
      "  0%|                                                   | 0/100 [00:00<?, ?it/s]"
     ]
    },
    {
     "name": "stdout",
     "output_type": "stream",
     "text": [
      "✅ My Dear Prime Minister → Rakeysh Omprakash Mehra → male (1.00)\n"
     ]
    },
    {
     "name": "stderr",
     "output_type": "stream",
     "text": [
      "  1%|▍                                          | 1/100 [00:07<13:05,  7.94s/it]"
     ]
    },
    {
     "name": "stdout",
     "output_type": "stream",
     "text": [
      "✅ Manikarnika: The Queen of Jhansi → Kangana Ranaut → female (1.00)\n",
      "✅ Manikarnika: The Queen of Jhansi → Radha Krishna Jagarlamudi → male (1.00)\n"
     ]
    },
    {
     "name": "stderr",
     "output_type": "stream",
     "text": [
      "  2%|▊                                          | 2/100 [00:21<18:29, 11.32s/it]"
     ]
    },
    {
     "name": "stdout",
     "output_type": "stream",
     "text": [
      "✅ Viceroy's House → Gurinder Chadha → female (1.00)\n"
     ]
    },
    {
     "name": "stderr",
     "output_type": "stream",
     "text": [
      "  3%|█▎                                         | 3/100 [00:29<15:27,  9.56s/it]"
     ]
    },
    {
     "name": "stdout",
     "output_type": "stream",
     "text": [
      "✅ 3 Storeys → Arjun Mukerjee → male (1.00)\n"
     ]
    },
    {
     "name": "stderr",
     "output_type": "stream",
     "text": [
      "  4%|█▋                                         | 4/100 [00:36<13:51,  8.66s/it]"
     ]
    },
    {
     "name": "stdout",
     "output_type": "stream",
     "text": [
      "✅ Fatso! → Rajat Kapoor → male (1.00)\n"
     ]
    },
    {
     "name": "stderr",
     "output_type": "stream",
     "text": [
      "  5%|██▏                                        | 5/100 [00:44<13:35,  8.59s/it]"
     ]
    },
    {
     "name": "stdout",
     "output_type": "stream",
     "text": [
      "✅ Jigariyaa → Raj Purohit → male (1.00)\n"
     ]
    },
    {
     "name": "stderr",
     "output_type": "stream",
     "text": [
      "  6%|██▌                                        | 6/100 [00:52<12:43,  8.12s/it]"
     ]
    },
    {
     "name": "stdout",
     "output_type": "stream",
     "text": [
      "✅ 7 Khoon Maaf → Vishal Bhardwaj → male (1.00)\n"
     ]
    },
    {
     "name": "stderr",
     "output_type": "stream",
     "text": [
      "  7%|███                                        | 7/100 [01:00<12:31,  8.08s/it]"
     ]
    },
    {
     "name": "stdout",
     "output_type": "stream",
     "text": [
      "✅ October → Shoojit Sircar → male (1.00)\n"
     ]
    },
    {
     "name": "stderr",
     "output_type": "stream",
     "text": [
      "  8%|███▍                                       | 8/100 [01:07<12:10,  7.94s/it]"
     ]
    },
    {
     "name": "stdout",
     "output_type": "stream",
     "text": [
      "✅ The Ghazi Attack → Sankalp Reddy → male (1.00)\n"
     ]
    },
    {
     "name": "stderr",
     "output_type": "stream",
     "text": [
      "  9%|███▊                                       | 9/100 [01:16<12:20,  8.14s/it]"
     ]
    },
    {
     "name": "stdout",
     "output_type": "stream",
     "text": [
      "✅ Khwaabb → Zaid Ali Khan → male (1.00)\n"
     ]
    },
    {
     "name": "stderr",
     "output_type": "stream",
     "text": [
      " 11%|████▌                                     | 11/100 [01:25<08:59,  6.06s/it]"
     ]
    },
    {
     "name": "stdout",
     "output_type": "stream",
     "text": [
      "❌ TMDb ID not found for IMDb ID tt3166542\n",
      "✅ #Yaaram → Ovais Khan → male (1.00)\n"
     ]
    },
    {
     "name": "stderr",
     "output_type": "stream",
     "text": [
      " 12%|█████                                     | 12/100 [01:32<09:23,  6.40s/it]"
     ]
    },
    {
     "name": "stdout",
     "output_type": "stream",
     "text": [
      "✅ Happy Bhag Jayegi → Mudassar Aziz → male (1.00)\n"
     ]
    },
    {
     "name": "stderr",
     "output_type": "stream",
     "text": [
      " 13%|█████▍                                    | 13/100 [01:41<10:01,  6.91s/it]"
     ]
    },
    {
     "name": "stdout",
     "output_type": "stream",
     "text": [
      "✅ Newton → Amit Masurkar → male (1.00)\n"
     ]
    },
    {
     "name": "stderr",
     "output_type": "stream",
     "text": [
      " 14%|█████▉                                    | 14/100 [01:49<10:28,  7.31s/it]"
     ]
    },
    {
     "name": "stdout",
     "output_type": "stream",
     "text": [
      "✅ Zero → Aanand L. Rai → male (1.00)\n"
     ]
    },
    {
     "name": "stderr",
     "output_type": "stream",
     "text": [
      " 15%|██████▎                                   | 15/100 [01:56<10:30,  7.41s/it]"
     ]
    },
    {
     "name": "stdout",
     "output_type": "stream",
     "text": [
      "✅ M Cream → Agneya Singh → male (1.00)\n",
      "✅ M Cream → Aban Raza → female (0.60)\n"
     ]
    },
    {
     "name": "stderr",
     "output_type": "stream",
     "text": [
      " 16%|██████▋                                   | 16/100 [02:08<12:12,  8.72s/it]"
     ]
    },
    {
     "name": "stdout",
     "output_type": "stream",
     "text": [
      "✅ Chennai Express → Rohit Shetty → male (1.00)\n"
     ]
    },
    {
     "name": "stderr",
     "output_type": "stream",
     "text": [
      " 17%|███████▏                                  | 17/100 [02:16<11:48,  8.54s/it]"
     ]
    },
    {
     "name": "stdout",
     "output_type": "stream",
     "text": [
      "✅ Student Of The Year → Karan Johar → male (1.00)\n"
     ]
    },
    {
     "name": "stderr",
     "output_type": "stream",
     "text": [
      " 18%|███████▌                                  | 18/100 [02:24<11:29,  8.41s/it]"
     ]
    },
    {
     "name": "stdout",
     "output_type": "stream",
     "text": [
      "✅ Bewakoofiyaan → Nupur Asthana → female (1.00)\n"
     ]
    },
    {
     "name": "stderr",
     "output_type": "stream",
     "text": [
      " 19%|███████▉                                  | 19/100 [02:31<10:45,  7.97s/it]"
     ]
    },
    {
     "name": "stdout",
     "output_type": "stream",
     "text": [
      "✅ Raanjhanaa → Aanand L. Rai → male (1.00)\n"
     ]
    },
    {
     "name": "stderr",
     "output_type": "stream",
     "text": [
      " 20%|████████▍                                 | 20/100 [02:39<10:18,  7.73s/it]"
     ]
    },
    {
     "name": "stdout",
     "output_type": "stream",
     "text": [
      "✅ Kismat Love Paisa Dilli → Sanjay Khanduri → male (1.00)\n"
     ]
    },
    {
     "name": "stderr",
     "output_type": "stream",
     "text": [
      " 21%|████████▊                                 | 21/100 [02:46<10:10,  7.73s/it]"
     ]
    },
    {
     "name": "stdout",
     "output_type": "stream",
     "text": [
      "✅ Ek Tha Tiger → Kabir Khan → male (1.00)\n"
     ]
    },
    {
     "name": "stderr",
     "output_type": "stream",
     "text": [
      " 22%|█████████▏                                | 22/100 [02:55<10:27,  8.04s/it]"
     ]
    },
    {
     "name": "stdout",
     "output_type": "stream",
     "text": [
      "✅ Crazy Cukkad Family → Ritesh Menon → male (1.00)\n"
     ]
    },
    {
     "name": "stderr",
     "output_type": "stream",
     "text": [
      " 23%|█████████▋                                | 23/100 [03:02<09:55,  7.73s/it]"
     ]
    },
    {
     "name": "stdout",
     "output_type": "stream",
     "text": [
      "✅ Mary Kom → Omung Kumar → male (1.00)\n"
     ]
    },
    {
     "name": "stderr",
     "output_type": "stream",
     "text": [
      " 25%|██████████▌                               | 25/100 [03:12<07:21,  5.89s/it]"
     ]
    },
    {
     "name": "stdout",
     "output_type": "stream",
     "text": [
      "❌ TMDb ID not found for IMDb ID tt2403201\n",
      "✅ Coffee Bloom → Manu Warrier → male (1.00)\n"
     ]
    },
    {
     "name": "stderr",
     "output_type": "stream",
     "text": [
      " 26%|██████████▉                               | 26/100 [03:19<07:49,  6.34s/it]"
     ]
    },
    {
     "name": "stdout",
     "output_type": "stream",
     "text": [
      "✅ Jai Gangaajal → Prakash Jha → male (1.00)\n",
      "✅ Jai Gangaajal → Sham Kaushal → male (1.00)\n"
     ]
    },
    {
     "name": "stderr",
     "output_type": "stream",
     "text": [
      " 27%|███████████▎                              | 27/100 [03:31<09:42,  7.98s/it]"
     ]
    },
    {
     "name": "stdout",
     "output_type": "stream",
     "text": [
      "✅ Aiyyaa → Sachin Kundalkar → male (1.00)\n"
     ]
    },
    {
     "name": "stderr",
     "output_type": "stream",
     "text": [
      " 28%|███████████▊                              | 28/100 [03:39<09:47,  8.16s/it]"
     ]
    },
    {
     "name": "stdout",
     "output_type": "stream",
     "text": [
      "✅ Arjun Patiala → Rohit Jugraj → male (1.00)\n"
     ]
    },
    {
     "name": "stderr",
     "output_type": "stream",
     "text": [
      " 29%|████████████▏                             | 29/100 [03:47<09:32,  8.07s/it]"
     ]
    },
    {
     "name": "stdout",
     "output_type": "stream",
     "text": [
      "✅ 2 States → Abhishek Varman → male (1.00)\n"
     ]
    },
    {
     "name": "stderr",
     "output_type": "stream",
     "text": [
      " 30%|████████████▌                             | 30/100 [03:54<08:59,  7.71s/it]"
     ]
    },
    {
     "name": "stdout",
     "output_type": "stream",
     "text": [
      "✅ Zila Ghaziabad → Anand Kumar → male (1.00)\n"
     ]
    },
    {
     "name": "stderr",
     "output_type": "stream",
     "text": [
      " 31%|█████████████                             | 31/100 [04:02<08:54,  7.75s/it]"
     ]
    },
    {
     "name": "stdout",
     "output_type": "stream",
     "text": [
      "✅ Ek Paheli Leela → Bobby Khan → male (1.00)\n"
     ]
    },
    {
     "name": "stderr",
     "output_type": "stream",
     "text": [
      " 32%|█████████████▍                            | 32/100 [04:10<08:55,  7.88s/it]"
     ]
    },
    {
     "name": "stdout",
     "output_type": "stream",
     "text": [
      "✅ Brahman Naman → Qaushiq Mukherjee → male (1.00)\n"
     ]
    },
    {
     "name": "stderr",
     "output_type": "stream",
     "text": [
      " 33%|█████████████▊                            | 33/100 [04:24<10:38,  9.54s/it]"
     ]
    },
    {
     "name": "stdout",
     "output_type": "stream",
     "text": [
      "✅ Holiday → A.R. Murugadoss → male (1.00)\n"
     ]
    },
    {
     "name": "stderr",
     "output_type": "stream",
     "text": [
      " 34%|██████████████▎                           | 34/100 [04:32<09:58,  9.07s/it]"
     ]
    },
    {
     "name": "stdout",
     "output_type": "stream",
     "text": [
      "✅ Sixteen → Raj Purohit → male (1.00)\n"
     ]
    },
    {
     "name": "stderr",
     "output_type": "stream",
     "text": [
      " 35%|██████████████▋                           | 35/100 [04:40<09:32,  8.80s/it]"
     ]
    },
    {
     "name": "stdout",
     "output_type": "stream",
     "text": [
      "✅ Dum Laga Ke Haisha → Sharat Katariya → male (1.00)\n"
     ]
    },
    {
     "name": "stderr",
     "output_type": "stream",
     "text": [
      " 36%|███████████████                           | 36/100 [04:48<09:09,  8.59s/it]"
     ]
    },
    {
     "name": "stdout",
     "output_type": "stream",
     "text": [
      "✅ Lootera → Vikramaditya Motwane → male (1.00)\n"
     ]
    },
    {
     "name": "stderr",
     "output_type": "stream",
     "text": [
      " 37%|███████████████▌                          | 37/100 [04:56<08:54,  8.49s/it]"
     ]
    },
    {
     "name": "stdout",
     "output_type": "stream",
     "text": [
      "✅ Shaadi Mein Zaroor Aana → Ratnaa Sinha → female (1.00)\n"
     ]
    },
    {
     "name": "stderr",
     "output_type": "stream",
     "text": [
      " 39%|████████████████▍                         | 39/100 [05:08<07:02,  6.93s/it]"
     ]
    },
    {
     "name": "stdout",
     "output_type": "stream",
     "text": [
      "⚠️ No directors found for: Mumbhai Connection (tt1826763)\n",
      "✅ Golmaal Again → Rohit Shetty → male (1.00)\n"
     ]
    },
    {
     "name": "stderr",
     "output_type": "stream",
     "text": [
      " 40%|████████████████▊                         | 40/100 [05:15<07:05,  7.10s/it]"
     ]
    },
    {
     "name": "stdout",
     "output_type": "stream",
     "text": [
      "✅ Kaashi in Search of Ganga → Dhiraj Kumar → male (1.00)\n"
     ]
    },
    {
     "name": "stderr",
     "output_type": "stream",
     "text": [
      " 41%|█████████████████▏                        | 41/100 [05:23<07:12,  7.34s/it]"
     ]
    },
    {
     "name": "stdout",
     "output_type": "stream",
     "text": [
      "✅ Aashiqui 2 → Mohit Suri → male (1.00)\n"
     ]
    },
    {
     "name": "stderr",
     "output_type": "stream",
     "text": [
      " 42%|█████████████████▋                        | 42/100 [05:30<07:04,  7.32s/it]"
     ]
    },
    {
     "name": "stdout",
     "output_type": "stream",
     "text": [
      "✅ Ladies VS. Ricky Bahl → Maneesh Sharma → male (1.00)\n"
     ]
    },
    {
     "name": "stderr",
     "output_type": "stream",
     "text": [
      " 43%|██████████████████                        | 43/100 [05:38<07:04,  7.45s/it]"
     ]
    },
    {
     "name": "stdout",
     "output_type": "stream",
     "text": [
      "✅ Jhalki → Brahmanand S. Singh → male (1.00)\n"
     ]
    },
    {
     "name": "stderr",
     "output_type": "stream",
     "text": [
      " 44%|██████████████████▍                       | 44/100 [05:46<07:01,  7.53s/it]"
     ]
    },
    {
     "name": "stdout",
     "output_type": "stream",
     "text": [
      "✅ Dil Bechara → Mukesh Chhabra → male (1.00)\n"
     ]
    },
    {
     "name": "stderr",
     "output_type": "stream",
     "text": [
      " 45%|██████████████████▉                       | 45/100 [05:54<07:12,  7.87s/it]"
     ]
    },
    {
     "name": "stdout",
     "output_type": "stream",
     "text": [
      "✅ Article 15 → Anubhav Sinha → male (1.00)\n"
     ]
    },
    {
     "name": "stderr",
     "output_type": "stream",
     "text": [
      " 46%|███████████████████▎                      | 46/100 [06:02<06:56,  7.71s/it]"
     ]
    },
    {
     "name": "stdout",
     "output_type": "stream",
     "text": [
      "✅ Total Siyapaa → Eeshwar Nivas → male (1.00)\n"
     ]
    },
    {
     "name": "stderr",
     "output_type": "stream",
     "text": [
      " 47%|███████████████████▋                      | 47/100 [06:09<06:41,  7.58s/it]"
     ]
    },
    {
     "name": "stdout",
     "output_type": "stream",
     "text": [
      "✅ Ramaiya Vastavaiya → Prabhu Deva → male (1.00)\n"
     ]
    },
    {
     "name": "stderr",
     "output_type": "stream",
     "text": [
      " 48%|████████████████████▏                     | 48/100 [06:19<07:18,  8.43s/it]"
     ]
    },
    {
     "name": "stdout",
     "output_type": "stream",
     "text": [
      "✅ Photograph → Ritesh Batra → male (1.00)\n"
     ]
    },
    {
     "name": "stderr",
     "output_type": "stream",
     "text": [
      " 49%|████████████████████▌                     | 49/100 [06:28<07:05,  8.35s/it]"
     ]
    },
    {
     "name": "stdout",
     "output_type": "stream",
     "text": [
      "✅ Kahaani → Sujoy Ghosh → male (1.00)\n"
     ]
    },
    {
     "name": "stderr",
     "output_type": "stream",
     "text": [
      " 50%|█████████████████████                     | 50/100 [06:36<07:02,  8.44s/it]"
     ]
    },
    {
     "name": "stdout",
     "output_type": "stream",
     "text": [
      "✅ Ankhon Dekhi → Rajat Kapoor → male (1.00)\n"
     ]
    },
    {
     "name": "stderr",
     "output_type": "stream",
     "text": [
      " 51%|█████████████████████▍                    | 51/100 [06:44<06:47,  8.32s/it]"
     ]
    },
    {
     "name": "stdout",
     "output_type": "stream",
     "text": [
      "✅ Night → Onir → male (1.00)\n"
     ]
    },
    {
     "name": "stderr",
     "output_type": "stream",
     "text": [
      " 52%|█████████████████████▊                    | 52/100 [06:52<06:34,  8.22s/it]"
     ]
    },
    {
     "name": "stdout",
     "output_type": "stream",
     "text": [
      "✅ Omertà → Hansal Mehta → male (1.00)\n"
     ]
    },
    {
     "name": "stderr",
     "output_type": "stream",
     "text": [
      " 53%|██████████████████████▎                   | 53/100 [07:00<06:20,  8.11s/it]"
     ]
    },
    {
     "name": "stdout",
     "output_type": "stream",
     "text": [
      "✅ Chittagong → Bedabrata Pain → male (1.00)\n"
     ]
    },
    {
     "name": "stderr",
     "output_type": "stream",
     "text": [
      " 54%|██████████████████████▋                   | 54/100 [07:07<05:58,  7.80s/it]"
     ]
    },
    {
     "name": "stdout",
     "output_type": "stream",
     "text": [
      "✅ Phata Poster Nikhla Hero → Rajkumar Santoshi → male (1.00)\n"
     ]
    },
    {
     "name": "stderr",
     "output_type": "stream",
     "text": [
      " 55%|███████████████████████                   | 55/100 [07:15<05:51,  7.82s/it]"
     ]
    },
    {
     "name": "stdout",
     "output_type": "stream",
     "text": [
      "✅ Ab Tak Chhappan 2 → Ejaz Gulab → male (1.00)\n"
     ]
    },
    {
     "name": "stderr",
     "output_type": "stream",
     "text": [
      " 56%|███████████████████████▌                  | 56/100 [07:24<06:01,  8.21s/it]"
     ]
    },
    {
     "name": "stdout",
     "output_type": "stream",
     "text": [
      "✅ F.A.L.T.U. → Remo D'Souza → male (1.00)\n"
     ]
    },
    {
     "name": "stderr",
     "output_type": "stream",
     "text": [
      " 57%|███████████████████████▉                  | 57/100 [07:33<06:03,  8.46s/it]"
     ]
    },
    {
     "name": "stdout",
     "output_type": "stream",
     "text": [
      "✅ Bajirao Mastani → Sanjay Leela Bhansali → male (1.00)\n"
     ]
    },
    {
     "name": "stderr",
     "output_type": "stream",
     "text": [
      " 59%|████████████████████████▊                 | 59/100 [07:45<04:46,  6.99s/it]"
     ]
    },
    {
     "name": "stdout",
     "output_type": "stream",
     "text": [
      "⚠️ No directors found for: Gollu Aur Pappu (tt4219300)\n",
      "✅ Tanu Weds Manu: Returns → Aanand L. Rai → male (1.00)\n"
     ]
    },
    {
     "name": "stderr",
     "output_type": "stream",
     "text": [
      " 60%|█████████████████████████▏                | 60/100 [07:52<04:35,  6.89s/it]"
     ]
    },
    {
     "name": "stdout",
     "output_type": "stream",
     "text": [
      "✅ Ungli → Renzil D'Silva → male (1.00)\n"
     ]
    },
    {
     "name": "stderr",
     "output_type": "stream",
     "text": [
      " 61%|█████████████████████████▌                | 61/100 [07:59<04:31,  6.97s/it]"
     ]
    },
    {
     "name": "stdout",
     "output_type": "stream",
     "text": [
      "✅ Queen → Vikas Bahl → male (1.00)\n"
     ]
    },
    {
     "name": "stderr",
     "output_type": "stream",
     "text": [
      " 62%|██████████████████████████                | 62/100 [08:06<04:31,  7.15s/it]"
     ]
    },
    {
     "name": "stdout",
     "output_type": "stream",
     "text": [
      "✅ Parmanu: The Story of Pokhran → Abhishek Sharma → male (1.00)\n"
     ]
    },
    {
     "name": "stderr",
     "output_type": "stream",
     "text": [
      " 63%|██████████████████████████▍               | 63/100 [09:16<15:53, 25.78s/it]"
     ]
    },
    {
     "name": "stdout",
     "output_type": "stream",
     "text": [
      "✅ Azhar → Anthony D'Souza → male (1.00)\n"
     ]
    },
    {
     "name": "stderr",
     "output_type": "stream",
     "text": [
      " 64%|██████████████████████████▉               | 64/100 [09:24<12:20, 20.56s/it]"
     ]
    },
    {
     "name": "stdout",
     "output_type": "stream",
     "text": [
      "✅ Sanju → Rajkumar Hirani → male (1.00)\n"
     ]
    },
    {
     "name": "stderr",
     "output_type": "stream",
     "text": [
      " 65%|███████████████████████████▎              | 65/100 [09:32<09:50, 16.88s/it]"
     ]
    },
    {
     "name": "stdout",
     "output_type": "stream",
     "text": [
      "✅ Ae Dil Hai Mushkil → Karan Johar → male (1.00)\n"
     ]
    },
    {
     "name": "stderr",
     "output_type": "stream",
     "text": [
      " 66%|███████████████████████████▋              | 66/100 [09:40<07:58, 14.07s/it]"
     ]
    },
    {
     "name": "stdout",
     "output_type": "stream",
     "text": [
      "✅ Satyameva Jayate → Milap Zaveri → male (1.00)\n"
     ]
    },
    {
     "name": "stderr",
     "output_type": "stream",
     "text": [
      " 67%|████████████████████████████▏             | 67/100 [09:48<06:49, 12.42s/it]"
     ]
    },
    {
     "name": "stdout",
     "output_type": "stream",
     "text": [
      "✅ Agent Vinod → Sriram Raghavan → male (1.00)\n"
     ]
    },
    {
     "name": "stderr",
     "output_type": "stream",
     "text": [
      " 68%|████████████████████████████▌             | 68/100 [09:57<05:58, 11.21s/it]"
     ]
    },
    {
     "name": "stdout",
     "output_type": "stream",
     "text": [
      "✅ Phillauri → Anshai Lal → male (1.00)\n"
     ]
    },
    {
     "name": "stderr",
     "output_type": "stream",
     "text": [
      " 69%|████████████████████████████▉             | 69/100 [10:05<05:19, 10.32s/it]"
     ]
    },
    {
     "name": "stdout",
     "output_type": "stream",
     "text": [
      "✅ Tumhari Sulu → Suresh Triveni → male (1.00)\n"
     ]
    },
    {
     "name": "stderr",
     "output_type": "stream",
     "text": [
      " 71%|█████████████████████████████▊            | 71/100 [10:14<03:26,  7.12s/it]"
     ]
    },
    {
     "name": "stdout",
     "output_type": "stream",
     "text": [
      "❌ TMDb ID not found for IMDb ID tt4718678\n",
      "✅ Dhoom 3 → Vijay Krishna Acharya → male (1.00)\n"
     ]
    },
    {
     "name": "stderr",
     "output_type": "stream",
     "text": [
      " 72%|██████████████████████████████▏           | 72/100 [10:22<03:24,  7.30s/it]"
     ]
    },
    {
     "name": "stdout",
     "output_type": "stream",
     "text": [
      "✅ M.S. Dhoni: The Untold Story → Neeraj Pandey → male (1.00)\n"
     ]
    },
    {
     "name": "stderr",
     "output_type": "stream",
     "text": [
      " 73%|██████████████████████████████▋           | 73/100 [10:32<03:37,  8.04s/it]"
     ]
    },
    {
     "name": "stdout",
     "output_type": "stream",
     "text": [
      "✅ Sons of Ram → Kushal Ruia → male (1.00)\n"
     ]
    },
    {
     "name": "stderr",
     "output_type": "stream",
     "text": [
      " 74%|███████████████████████████████           | 74/100 [10:39<03:26,  7.93s/it]"
     ]
    },
    {
     "name": "stdout",
     "output_type": "stream",
     "text": [
      "✅ Halkaa → Nila Madhab Panda → male (1.00)\n"
     ]
    },
    {
     "name": "stderr",
     "output_type": "stream",
     "text": [
      " 75%|███████████████████████████████▌          | 75/100 [10:46<03:11,  7.66s/it]"
     ]
    },
    {
     "name": "stdout",
     "output_type": "stream",
     "text": [
      "✅ Bhaiaji Superhitt → Neeraj Pathak → male (1.00)\n"
     ]
    },
    {
     "name": "stderr",
     "output_type": "stream",
     "text": [
      " 76%|███████████████████████████████▉          | 76/100 [10:55<03:08,  7.85s/it]"
     ]
    },
    {
     "name": "stdout",
     "output_type": "stream",
     "text": [
      "✅ Jagga Jasoos → Anurag Basu → male (1.00)\n"
     ]
    },
    {
     "name": "stderr",
     "output_type": "stream",
     "text": [
      " 77%|████████████████████████████████▎         | 77/100 [11:03<03:02,  7.92s/it]"
     ]
    },
    {
     "name": "stdout",
     "output_type": "stream",
     "text": [
      "✅ ?: A Question Mark → Allyson Patel → female (0.90)\n",
      "✅ ?: A Question Mark → Yash Dave → male (1.00)\n"
     ]
    },
    {
     "name": "stderr",
     "output_type": "stream",
     "text": [
      " 78%|████████████████████████████████▊         | 78/100 [11:14<03:14,  8.83s/it]"
     ]
    },
    {
     "name": "stdout",
     "output_type": "stream",
     "text": [
      "✅ Good Newwz → Raj Mehta → male (1.00)\n"
     ]
    },
    {
     "name": "stderr",
     "output_type": "stream",
     "text": [
      " 79%|█████████████████████████████████▏        | 79/100 [11:22<02:58,  8.50s/it]"
     ]
    },
    {
     "name": "stdout",
     "output_type": "stream",
     "text": [
      "✅ Ghayal Once Again → Sunny Deol → male (1.00)\n"
     ]
    },
    {
     "name": "stderr",
     "output_type": "stream",
     "text": [
      " 81%|██████████████████████████████████        | 81/100 [11:32<02:05,  6.62s/it]"
     ]
    },
    {
     "name": "stdout",
     "output_type": "stream",
     "text": [
      "⚠️ No directors found for: Mummy Punjabi (tt2066925)\n",
      "✅ Chakravyuh → Prakash Jha → male (1.00)\n"
     ]
    },
    {
     "name": "stderr",
     "output_type": "stream",
     "text": [
      " 82%|██████████████████████████████████▍       | 82/100 [11:39<02:00,  6.69s/it]"
     ]
    },
    {
     "name": "stdout",
     "output_type": "stream",
     "text": [
      "✅ Mirzya → Rakeysh Omprakash Mehra → male (1.00)\n"
     ]
    },
    {
     "name": "stderr",
     "output_type": "stream",
     "text": [
      " 83%|██████████████████████████████████▊       | 83/100 [11:47<02:01,  7.12s/it]"
     ]
    },
    {
     "name": "stdout",
     "output_type": "stream",
     "text": [
      "✅ Dabangg 2 → Arbaaz Khan → male (1.00)\n"
     ]
    },
    {
     "name": "stderr",
     "output_type": "stream",
     "text": [
      " 84%|███████████████████████████████████▎      | 84/100 [11:54<01:55,  7.19s/it]"
     ]
    },
    {
     "name": "stdout",
     "output_type": "stream",
     "text": [
      "✅ The Accidental Prime Minister → Vijay Ratnakar Gutte → male (1.00)\n"
     ]
    },
    {
     "name": "stderr",
     "output_type": "stream",
     "text": [
      " 85%|███████████████████████████████████▋      | 85/100 [12:02<01:52,  7.53s/it]"
     ]
    },
    {
     "name": "stdout",
     "output_type": "stream",
     "text": [
      "✅ Desi Kattey → Anand Kumar → male (1.00)\n"
     ]
    },
    {
     "name": "stderr",
     "output_type": "stream",
     "text": [
      " 87%|████████████████████████████████████▌     | 87/100 [12:11<01:13,  5.62s/it]"
     ]
    },
    {
     "name": "stdout",
     "output_type": "stream",
     "text": [
      "❌ TMDb ID not found for IMDb ID tt4384270\n",
      "✅ Bombairiya → Pia Sukanya → female (1.00)\n"
     ]
    },
    {
     "name": "stderr",
     "output_type": "stream",
     "text": [
      " 88%|████████████████████████████████████▉     | 88/100 [12:19<01:14,  6.24s/it]"
     ]
    },
    {
     "name": "stdout",
     "output_type": "stream",
     "text": [
      "✅ Manjhi: The Mountain Man → Ketan Mehta → male (1.00)\n"
     ]
    },
    {
     "name": "stderr",
     "output_type": "stream",
     "text": [
      " 89%|█████████████████████████████████████▍    | 89/100 [12:26<01:13,  6.64s/it]"
     ]
    },
    {
     "name": "stdout",
     "output_type": "stream",
     "text": [
      "✅ Sanam Re → Divya Khosla Kumar → female (1.00)\n"
     ]
    },
    {
     "name": "stderr",
     "output_type": "stream",
     "text": [
      " 90%|█████████████████████████████████████▊    | 90/100 [12:33<01:07,  6.78s/it]"
     ]
    },
    {
     "name": "stdout",
     "output_type": "stream",
     "text": [
      "✅ Luckhnowi Ishq → Aanand Raut → male (1.00)\n"
     ]
    },
    {
     "name": "stderr",
     "output_type": "stream",
     "text": [
      " 91%|██████████████████████████████████████▏   | 91/100 [12:41<01:03,  7.02s/it]"
     ]
    },
    {
     "name": "stdout",
     "output_type": "stream",
     "text": [
      "✅ Baat Bann Gayi → Shuja Ali → male (1.00)\n"
     ]
    },
    {
     "name": "stderr",
     "output_type": "stream",
     "text": [
      " 93%|███████████████████████████████████████   | 93/100 [12:53<00:43,  6.17s/it]"
     ]
    },
    {
     "name": "stdout",
     "output_type": "stream",
     "text": [
      "⚠️ No directors found for: Jaane kyun de yaaron (tt7720254)\n",
      "✅ Maatr → Ashtar Sayed → male (1.00)\n"
     ]
    },
    {
     "name": "stderr",
     "output_type": "stream",
     "text": [
      " 94%|███████████████████████████████████████▍  | 94/100 [13:02<00:42,  7.10s/it]"
     ]
    },
    {
     "name": "stdout",
     "output_type": "stream",
     "text": [
      "✅ Hum Chaar → Abhishek Dixit → male (1.00)\n"
     ]
    },
    {
     "name": "stderr",
     "output_type": "stream",
     "text": [
      " 95%|███████████████████████████████████████▉  | 95/100 [13:10<00:36,  7.26s/it]"
     ]
    },
    {
     "name": "stdout",
     "output_type": "stream",
     "text": [
      "✅ Padmaavat → Sanjay Leela Bhansali → male (1.00)\n"
     ]
    },
    {
     "name": "stderr",
     "output_type": "stream",
     "text": [
      " 96%|████████████████████████████████████████▎ | 96/100 [13:18<00:30,  7.69s/it]"
     ]
    },
    {
     "name": "stdout",
     "output_type": "stream",
     "text": [
      "✅ Badlapur → Sriram Raghavan → male (1.00)\n"
     ]
    },
    {
     "name": "stderr",
     "output_type": "stream",
     "text": [
      " 97%|████████████████████████████████████████▋ | 97/100 [13:26<00:23,  7.72s/it]"
     ]
    },
    {
     "name": "stdout",
     "output_type": "stream",
     "text": [
      "✅ Baby → Neeraj Pandey → male (1.00)\n"
     ]
    },
    {
     "name": "stderr",
     "output_type": "stream",
     "text": [
      " 99%|█████████████████████████████████████████▌| 99/100 [13:37<00:06,  6.47s/it]"
     ]
    },
    {
     "name": "stdout",
     "output_type": "stream",
     "text": [
      "⚠️ No directors found for: The Silent Heroes (tt4309284)\n",
      "✅ Coffee with D → Vishal Mishra → male (1.00)\n"
     ]
    },
    {
     "name": "stderr",
     "output_type": "stream",
     "text": [
      "100%|█████████████████████████████████████████| 100/100 [13:45<00:00,  8.26s/it]"
     ]
    },
    {
     "name": "stdout",
     "output_type": "stream",
     "text": [
      "\n",
      "⚠️ Logged 9 failed cases to: /Users/rishabhbijani/Desktop/ra_app/director_gender_failed_cases.csv\n",
      "\n",
      "✅ Saved final output to: /Users/rishabhbijani/Desktop/ra_app/director_gender_full_output.csv\n"
     ]
    },
    {
     "name": "stderr",
     "output_type": "stream",
     "text": [
      "\n"
     ]
    }
   ],
   "source": [
    "#AI-Based Gender Inference \n",
    "#Director Name and Bio using TMDb \n",
    "#25th July 2025 \n",
    "\n",
    "import os\n",
    "import pandas as pd\n",
    "import requests\n",
    "import json\n",
    "import time\n",
    "from tqdm import tqdm\n",
    "from openai import OpenAI\n",
    "\n",
    "# --- 🔐 API Keys ---\n",
    "TMDB_API_KEY = \"ef74866feee9084817794614ffbae21d\"\n",
    "\n",
    "#NOTE: PLEASE REPLACE KEY WITH THE ONE PROVIDED OVER EMAIL\n",
    "OPENAI_API_KEY = \"\"  \n",
    "\n",
    "#PLEASE ENDURE movies_random_sample.csv is in Desktop/ra_app\n",
    "# --- 📁 Load Movie Dataset ---\n",
    "csv_path = os.path.expanduser(\"~/Desktop/ra_app/movies_random_sample.csv\")\n",
    "df = pd.read_csv(csv_path)\n",
    "\n",
    "# --- 📦 Output Containers ---\n",
    "output_rows = []\n",
    "failed_imdb_ids = []\n",
    "\n",
    "# --- 🔄 TMDb Helper Functions ---\n",
    "def get_tmdb_id(imdb_id):\n",
    "    try:\n",
    "        url = f\"https://api.themoviedb.org/3/find/{imdb_id}\"\n",
    "        params = {\"api_key\": TMDB_API_KEY, \"external_source\": \"imdb_id\"}\n",
    "        r = requests.get(url, params=params)\n",
    "        data = r.json()\n",
    "        return data['movie_results'][0]['id'] if data['movie_results'] else None\n",
    "    except:\n",
    "        return None\n",
    "\n",
    "def get_movie_title(tmdb_id):\n",
    "    try:\n",
    "        url = f\"https://api.themoviedb.org/3/movie/{tmdb_id}\"\n",
    "        params = {\"api_key\": TMDB_API_KEY}\n",
    "        r = requests.get(url, params=params)\n",
    "        return r.json().get(\"title\", \"Unknown Title\")\n",
    "    except:\n",
    "        return \"Unknown Title\"\n",
    "\n",
    "def get_directors(tmdb_id):\n",
    "    try:\n",
    "        url = f\"https://api.themoviedb.org/3/movie/{tmdb_id}/credits\"\n",
    "        params = {\"api_key\": TMDB_API_KEY}\n",
    "        r = requests.get(url, params=params)\n",
    "        data = r.json()\n",
    "        return [(p['id'], p['name']) for p in data.get(\"crew\", []) if p.get(\"job\") == \"Director\"]\n",
    "    except:\n",
    "        return []\n",
    "\n",
    "def get_bio(person_id):\n",
    "    try:\n",
    "        url = f\"https://api.themoviedb.org/3/person/{person_id}\"\n",
    "        params = {\"api_key\": TMDB_API_KEY}\n",
    "        r = requests.get(url, params=params)\n",
    "        return r.json().get(\"biography\", \"\")\n",
    "    except:\n",
    "        return \"\"\n",
    "\n",
    "# --- 🤖 GPT Inference Function ---\n",
    "def infer_gender(name, bio, max_retries=3):\n",
    "    client = OpenAI(api_key=OPENAI_API_KEY)  # ✅ Correctly define client inside the function\n",
    "\n",
    "    prompt = f\"\"\"\n",
    "Based on the following name and biography of a film director associated with Indian cinema (especially Bollywood), what is the most likely gender of this person?\n",
    "\n",
    "Name: {name}\n",
    "Biography: {bio}\n",
    "\n",
    "Respond in JSON format with two fields:\n",
    "{{\n",
    "  \"gender\": \"male\" or \"female\",\n",
    "  \"confidence\": a number between 0.0 and 1.0 indicating how confident you are in this classification\n",
    "}}\n",
    "\"\"\"\n",
    "    for attempt in range(max_retries):\n",
    "        try:\n",
    "            response = client.chat.completions.create(\n",
    "                model=\"gpt-4\",\n",
    "                messages=[{\"role\": \"user\", \"content\": prompt}],\n",
    "                temperature=0,\n",
    "                timeout=60\n",
    "            )\n",
    "            raw = response.choices[0].message.content.strip()\n",
    "            result = json.loads(raw)\n",
    "            return result[\"gender\"].lower(), float(result[\"confidence\"])\n",
    "        except Exception as e:\n",
    "            print(f\"⚠️ GPT error (attempt {attempt+1}) for {name}: {e}\")\n",
    "            time.sleep(2 + attempt * 2)\n",
    "\n",
    "    return \"unknown\", 0.0\n",
    "\n",
    "# --- 🚀 Main Loop Over Movies ---\n",
    "for idx, row in tqdm(df.iterrows(), total=df.shape[0]):\n",
    "    imdb_id = row['imdb_id']\n",
    "\n",
    "    tmdb_id = get_tmdb_id(imdb_id)\n",
    "    if not tmdb_id:\n",
    "        print(f\"❌ TMDb ID not found for IMDb ID {imdb_id}\")\n",
    "        failed_imdb_ids.append({\"imdb_id\": imdb_id, \"reason\": \"tmdb_id_not_found\"})\n",
    "        continue\n",
    "\n",
    "    movie_title = get_movie_title(tmdb_id)\n",
    "    directors = get_directors(tmdb_id)\n",
    "\n",
    "    if not directors:\n",
    "        print(f\"⚠️ No directors found for: {movie_title} ({imdb_id})\")\n",
    "        failed_imdb_ids.append({\"imdb_id\": imdb_id, \"reason\": \"no_director_found\"})\n",
    "        continue\n",
    "\n",
    "    for person_id, director_name in directors:\n",
    "        bio = get_bio(person_id)\n",
    "        gender, confidence = infer_gender(director_name, bio)\n",
    "\n",
    "        output_rows.append({\n",
    "            \"imdb_id\": imdb_id,\n",
    "            \"movie_title\": movie_title,\n",
    "            \"director_name\": director_name,\n",
    "            \"director_bio\": bio,\n",
    "            \"inferred_gender\": gender,\n",
    "            \"confidence_score\": confidence\n",
    "        })\n",
    "\n",
    "        print(f\"✅ {movie_title} → {director_name} → {gender} ({confidence:.2f})\")\n",
    "\n",
    "        time.sleep(1)  # polite rate limit delay\n",
    "\n",
    "# --- 💾 Save Output Files ---\n",
    "output_df = pd.DataFrame(output_rows)\n",
    "output_path = os.path.expanduser(\"~/Desktop/ra_app/director_gender_full_output.csv\")\n",
    "output_df.to_csv(output_path, index=False)\n",
    "\n",
    "if failed_imdb_ids:\n",
    "    fail_df = pd.DataFrame(failed_imdb_ids)\n",
    "    fail_path = os.path.expanduser(\"~/Desktop/ra_app/director_gender_failed_cases.csv\")\n",
    "    fail_df.to_csv(fail_path, index=False)\n",
    "    print(f\"\\n⚠️ Logged {len(failed_imdb_ids)} failed cases to: {fail_path}\")\n",
    "\n",
    "print(f\"\\n✅ Saved final output to: {output_path}\")"
   ]
  }
 ],
 "metadata": {
  "jupytext": {
   "formats": "ipynb,py:percent"
  },
  "kernelspec": {
   "display_name": "Python [conda env:base] *",
   "language": "python",
   "name": "conda-base-py"
  },
  "language_info": {
   "codemirror_mode": {
    "name": "ipython",
    "version": 3
   },
   "file_extension": ".py",
   "mimetype": "text/x-python",
   "name": "python",
   "nbconvert_exporter": "python",
   "pygments_lexer": "ipython3",
   "version": "3.12.7"
  }
 },
 "nbformat": 4,
 "nbformat_minor": 5
}
