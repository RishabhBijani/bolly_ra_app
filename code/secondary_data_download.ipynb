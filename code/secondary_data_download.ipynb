{
 "cells": [
  {
   "cell_type": "code",
   "execution_count": 2,
   "id": "a063ef2c",
   "metadata": {
    "lines_to_next_cell": 2
   },
   "outputs": [
    {
     "name": "stderr",
     "output_type": "stream",
     "text": [
      "Checking & Downloading Missing: 100%|██████| 100/100 [00:00<00:00, 30865.44it/s]"
     ]
    },
    {
     "name": "stdout",
     "output_type": "stream",
     "text": [
      "tt2378057 → description: ✅, poster: ❌\n",
      "\n",
      "📄 Missing files report saved to /Users/rishabhbijani/Desktop/ra_app/data/missing_files_report.csv\n",
      "\n",
      "🎉 Script finished.\n"
     ]
    },
    {
     "name": "stderr",
     "output_type": "stream",
     "text": [
      "\n"
     ]
    }
   ],
   "source": [
    "# Bollywood Retry Script: Descriptions & Posters \n",
    "# 25th July 2025\n",
    "\n",
    "import os\n",
    "import requests\n",
    "import pandas as pd\n",
    "from bs4 import BeautifulSoup\n",
    "from tqdm import tqdm\n",
    "\n",
    "# === File and folder setup ===\n",
    "#NOTE: PLEASE CHANGE FILE PATHS ACCORDINGLY \n",
    "# PLEASE ENSURE movies_random_sample.csv is in Desktop/ra_app\n",
    "# REST AUTOMATIC CARRY FORWARD FROM primary_data_download.ipynb\n",
    "\n",
    "csv_path = os.path.expanduser(\"~/Desktop/ra_app/movies_random_sample.csv\")\n",
    "base_folder = os.path.expanduser(\"~/Desktop/ra_app/data\")\n",
    "desc_folder = os.path.join(base_folder, \"description\")\n",
    "poster_folder = os.path.join(base_folder, \"posters\")\n",
    "log_file = os.path.join(base_folder, \"log_retry_from_dryrun.txt\")\n",
    "summary_file = os.path.join(base_folder, \"missing_files_report.csv\")\n",
    "\n",
    "# Ensure folders exist\n",
    "os.makedirs(desc_folder, exist_ok=True)\n",
    "os.makedirs(poster_folder, exist_ok=True)\n",
    "\n",
    "# Logging function\n",
    "def log(msg):\n",
    "    print(msg)\n",
    "    with open(log_file, \"a\", encoding=\"utf-8\") as f:\n",
    "        f.write(msg + \"\\n\")\n",
    "\n",
    "# Load data\n",
    "df = pd.read_csv(csv_path)\n",
    "imdb_ids = df[\"imdb_id\"].tolist()\n",
    "\n",
    "# Get existing files\n",
    "existing_desc = set(f.replace(\".txt\", \"\") for f in os.listdir(desc_folder) if f.endswith(\".txt\"))\n",
    "existing_poster = set(f.replace(\".jpg\", \"\").replace(\".png\", \"\") for f in os.listdir(poster_folder) if f.endswith((\".jpg\", \".png\")))\n",
    "\n",
    "# Identify and retry missing files\n",
    "missing_data = []\n",
    "for _, row in tqdm(df.iterrows(), total=len(df), desc=\"Checking & Downloading Missing\"):\n",
    "    imdb_id = row[\"imdb_id\"]\n",
    "    wiki_link = row[\"wiki_link\"]\n",
    "    poster_url = row[\"poster_path\"]\n",
    "\n",
    "    # === Check what’s missing ===\n",
    "    missing_desc = imdb_id not in existing_desc\n",
    "    missing_post = imdb_id not in existing_poster\n",
    "\n",
    "    # === Log & track missing ===\n",
    "    if missing_desc or missing_post:\n",
    "        missing_data.append({\n",
    "            \"imdb_id\": imdb_id,\n",
    "            \"missing_description\": missing_desc,\n",
    "            \"missing_poster\": missing_post\n",
    "        })\n",
    "        log(f\"{imdb_id} → description: {'❌' if missing_desc else '✅'}, poster: {'❌' if missing_post else '✅'}\")\n",
    "\n",
    "    # === Download Description ===\n",
    "    if missing_desc and pd.notna(wiki_link):\n",
    "        try:\n",
    "            resp = requests.get(wiki_link, timeout=10)\n",
    "            if resp.status_code == 200:\n",
    "                soup = BeautifulSoup(resp.text, \"html.parser\")\n",
    "                content = soup.select(\"div.mw-parser-output > p\")\n",
    "                paragraphs = [p.get_text().strip() for p in content if p.get_text().strip()]\n",
    "                text = \"\\n\".join(paragraphs[:2])\n",
    "                if text:\n",
    "                    desc_path = os.path.join(desc_folder, f\"{imdb_id}.txt\")\n",
    "                    with open(desc_path, \"w\", encoding=\"utf-8\") as f:\n",
    "                        f.write(text)\n",
    "                    log(\"✅ Description downloaded from Wikipedia.\")\n",
    "                else:\n",
    "                    log(\"⚠️ Wikipedia has no valid paragraph content.\")\n",
    "            else:\n",
    "                log(f\"❌ Failed to fetch Wikipedia page (status {resp.status_code}).\")\n",
    "        except Exception as e:\n",
    "            log(f\"❌ Error fetching Wikipedia: {e}\")\n",
    "\n",
    "    # === Download Poster ===\n",
    "    if missing_post and pd.notna(poster_url):\n",
    "        try:\n",
    "            headers = {\n",
    "                \"User-Agent\": \"Mozilla/5.0\",\n",
    "                \"Referer\": \"https://en.wikipedia.org/\"\n",
    "            }\n",
    "            resp = requests.get(poster_url, headers=headers, timeout=10)\n",
    "            if resp.status_code == 200:\n",
    "                poster_path = os.path.join(poster_folder, f\"{imdb_id}.jpg\")\n",
    "                with open(poster_path, \"wb\") as f:\n",
    "                    f.write(resp.content)\n",
    "                log(\"✅ Poster downloaded from Wikimedia.\")\n",
    "            else:\n",
    "                log(f\"❌ Failed to download poster (status {resp.status_code}).\")\n",
    "        except Exception as e:\n",
    "            log(f\"❌ Error downloading poster: {e}\")\n",
    "\n",
    "# === Save report of what was missing ===\n",
    "if missing_data:\n",
    "    pd.DataFrame(missing_data).to_csv(summary_file, index=False)\n",
    "    log(f\"\\n📄 Missing files report saved to {summary_file}\")\n",
    "else:\n",
    "    log(\"\\n✅ No missing files found. All data is complete.\")\n",
    "\n",
    "log(\"\\n🎉 Script finished.\")"
   ]
  },
  {
   "cell_type": "code",
   "execution_count": null,
   "id": "cec3a566-379f-4359-87ee-3114facdaa56",
   "metadata": {},
   "outputs": [],
   "source": []
  }
 ],
 "metadata": {
  "jupytext": {
   "formats": "ipynb,py:percent"
  },
  "kernelspec": {
   "display_name": "Python [conda env:base] *",
   "language": "python",
   "name": "conda-base-py"
  },
  "language_info": {
   "codemirror_mode": {
    "name": "ipython",
    "version": 3
   },
   "file_extension": ".py",
   "mimetype": "text/x-python",
   "name": "python",
   "nbconvert_exporter": "python",
   "pygments_lexer": "ipython3",
   "version": "3.12.7"
  }
 },
 "nbformat": 4,
 "nbformat_minor": 5
}
